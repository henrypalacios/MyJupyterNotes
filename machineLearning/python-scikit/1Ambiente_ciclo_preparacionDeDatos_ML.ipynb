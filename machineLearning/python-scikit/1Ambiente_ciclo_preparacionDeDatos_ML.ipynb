{
 "cells": [
  {
   "cell_type": "markdown",
   "metadata": {},
   "source": [
    "# Terminologia de Machine Learning"
   ]
  },
  {
   "cell_type": "markdown",
   "metadata": {
    "collapsed": false
   },
   "source": [
    "<h3>1- Tabulaje de datos en 2 Dimensioines.png</h3>\n",
    "<img src='img/tabulaje_datos_en_2dimensioines.png' />"
   ]
  },
  {
   "cell_type": "markdown",
   "metadata": {},
   "source": [
    "**Linea**=Ejemplo  \n",
    "**Columna**=Feature  \n",
    "**Cantidad de columnas**=Dimension de los datos  \n",
    "**Output de un algoritmo de ML**=Modelo  "
   ]
  },
  {
   "cell_type": "markdown",
   "metadata": {
    "collapsed": true
   },
   "source": [
    "<h3>2- Ciclo de Trabajo de Machine Learning</h3>\n",
    "<img src='img/ciclo_ml.png' />"
   ]
  },
  {
   "cell_type": "markdown",
   "metadata": {},
   "source": [
    "### 3 Configurar un ambiente Pydata de trabajo"
   ]
  },
  {
   "cell_type": "markdown",
   "metadata": {},
   "source": [
    "- Scikit-learn es la librería de Machine Learning estandar más popular según estadisticas de Github.\n",
    "- Saber ocupar Scikit-learn es equivalente a saber hacer Machine Learning con Python.\n",
    "- Scikit-learn se apoya en una familia de librerías comunmente conocida como el ambiente Pydata.\n",
    "\n",
    "**Para hacer machine learning de forma profesional es importante:**\n",
    "\n",
    "- Contar con librerias:\n",
    " - cientificas (numpy, scipy, statsmodel),\n",
    " - procesamiento de datos (pandas, dask),\n",
    " - machine learning (scikit-learn, keras),\n",
    " - visualizacion de datos (matplotlib, bokeh, seaborn).\n",
    "- Contar con ambientes limpios y separados, que se puedan construir rapidamente y de forma reproducible.\n",
    "- Trabajar en un IDE adaptado a workflows de machine Learning"
   ]
  },
  {
   "cell_type": "markdown",
   "metadata": {
    "collapsed": true
   },
   "source": [
    "# 4-Numpy"
   ]
  },
  {
   "cell_type": "code",
   "execution_count": 1,
   "metadata": {
    "collapsed": false
   },
   "outputs": [],
   "source": [
    "import numpy as np\n",
    "from IPython.display import display"
   ]
  },
  {
   "cell_type": "code",
   "execution_count": 2,
   "metadata": {
    "collapsed": false
   },
   "outputs": [],
   "source": [
    "#crear matriz en numpy\n",
    "a1 = np.array([1,5,10])\n",
    "a2 = np.arange(10)\n",
    "a3 = np.zeros((2,3))\n",
    "a4 = np.ones((2,3))"
   ]
  },
  {
   "cell_type": "code",
   "execution_count": 3,
   "metadata": {
    "collapsed": false
   },
   "outputs": [
    {
     "data": {
      "text/plain": [
       "array([ 1,  5, 10])"
      ]
     },
     "metadata": {},
     "output_type": "display_data"
    },
    {
     "data": {
      "text/plain": [
       "array([0, 1, 2, 3, 4, 5, 6, 7, 8, 9])"
      ]
     },
     "metadata": {},
     "output_type": "display_data"
    },
    {
     "data": {
      "text/plain": [
       "array([[ 0.,  0.,  0.],\n",
       "       [ 0.,  0.,  0.]])"
      ]
     },
     "metadata": {},
     "output_type": "display_data"
    },
    {
     "data": {
      "text/plain": [
       "array([[ 1.,  1.,  1.],\n",
       "       [ 1.,  1.,  1.]])"
      ]
     },
     "metadata": {},
     "output_type": "display_data"
    }
   ],
   "source": [
    "display(a1);\n",
    "display(a2);\n",
    "display(a3);\n",
    "display(a4);"
   ]
  },
  {
   "cell_type": "code",
   "execution_count": 4,
   "metadata": {
    "collapsed": false
   },
   "outputs": [
    {
     "data": {
      "text/plain": [
       "array([ 1.        ,  0.97368421,  0.94736842,  0.92105263,  0.89473684,\n",
       "        0.86842105,  0.84210526,  0.81578947,  0.78947368,  0.76315789,\n",
       "        0.73684211,  0.71052632,  0.68421053,  0.65789474,  0.63157895,\n",
       "        0.60526316,  0.57894737,  0.55263158,  0.52631579,  0.5       ])"
      ]
     },
     "metadata": {},
     "output_type": "display_data"
    }
   ],
   "source": [
    "a5 = np.linspace(1,0.5,20)\n",
    "display(a5)"
   ]
  },
  {
   "cell_type": "code",
   "execution_count": 5,
   "metadata": {
    "collapsed": false
   },
   "outputs": [
    {
     "data": {
      "text/plain": [
       "dtype('int64')"
      ]
     },
     "execution_count": 5,
     "metadata": {},
     "output_type": "execute_result"
    }
   ],
   "source": [
    "# Saber el tipo de dato de una matriz\n",
    "a1.dtype"
   ]
  },
  {
   "cell_type": "markdown",
   "metadata": {},
   "source": [
    "## Dimension"
   ]
  },
  {
   "cell_type": "code",
   "execution_count": 6,
   "metadata": {
    "collapsed": false
   },
   "outputs": [
    {
     "data": {
      "text/plain": [
       "(20,)"
      ]
     },
     "execution_count": 6,
     "metadata": {},
     "output_type": "execute_result"
    }
   ],
   "source": [
    "a5.shape"
   ]
  },
  {
   "cell_type": "code",
   "execution_count": 7,
   "metadata": {
    "collapsed": false
   },
   "outputs": [
    {
     "data": {
      "text/plain": [
       "(3,)"
      ]
     },
     "metadata": {},
     "output_type": "display_data"
    },
    {
     "data": {
      "text/plain": [
       "(1, 3)"
      ]
     },
     "metadata": {},
     "output_type": "display_data"
    }
   ],
   "source": [
    "a1D = np.array([1,2,3])\n",
    "a2D = np.array([[1,2,3]])\n",
    "display(a1D.shape)\n",
    "display(a2D.shape)"
   ]
  },
  {
   "cell_type": "code",
   "execution_count": 8,
   "metadata": {
    "collapsed": false
   },
   "outputs": [
    {
     "data": {
      "text/plain": [
       "False"
      ]
     },
     "execution_count": 8,
     "metadata": {},
     "output_type": "execute_result"
    }
   ],
   "source": [
    "# Are equals?\n",
    "np.array_equal(a1D, a2D)"
   ]
  },
  {
   "cell_type": "code",
   "execution_count": 9,
   "metadata": {
    "collapsed": true
   },
   "outputs": [],
   "source": [
    "#reshaping\n",
    "new_dimensions = (1, a1D.shape[0])\n",
    "a1D = a1D.reshape(new_dimensions)"
   ]
  },
  {
   "cell_type": "code",
   "execution_count": 10,
   "metadata": {
    "collapsed": false
   },
   "outputs": [
    {
     "data": {
      "text/plain": [
       "(1, 3)"
      ]
     },
     "metadata": {},
     "output_type": "display_data"
    }
   ],
   "source": [
    "display(a1D.shape)"
   ]
  },
  {
   "cell_type": "code",
   "execution_count": 11,
   "metadata": {
    "collapsed": false
   },
   "outputs": [
    {
     "data": {
      "text/plain": [
       "True"
      ]
     },
     "execution_count": 11,
     "metadata": {},
     "output_type": "execute_result"
    }
   ],
   "source": [
    "# Now, Are equals?\n",
    "np.array_equal(a1D, a2D)"
   ]
  },
  {
   "cell_type": "markdown",
   "metadata": {},
   "source": [
    "## Acceso a elementos y Slicing"
   ]
  },
  {
   "cell_type": "code",
   "execution_count": 12,
   "metadata": {
    "collapsed": false
   },
   "outputs": [
    {
     "data": {
      "text/plain": [
       "False"
      ]
     },
     "execution_count": 12,
     "metadata": {},
     "output_type": "execute_result"
    }
   ],
   "source": [
    "lista = ['henry', 'cindy', 'julieta']\n",
    "('cind' in lista)"
   ]
  },
  {
   "cell_type": "code",
   "execution_count": 13,
   "metadata": {
    "collapsed": false
   },
   "outputs": [
    {
     "data": {
      "text/plain": [
       "array([[ 1.,  2.,  3.],\n",
       "       [ 5.,  5.,  5.],\n",
       "       [ 9.,  9.,  9.]])"
      ]
     },
     "execution_count": 13,
     "metadata": {},
     "output_type": "execute_result"
    }
   ],
   "source": [
    "a = np.array([[ 1.,  2.,  3.],\n",
    "       [ 5.,  5.,  5.],\n",
    "       [ 9.,  9.,  9.]])\n",
    "a"
   ]
  },
  {
   "cell_type": "code",
   "execution_count": 14,
   "metadata": {
    "collapsed": false
   },
   "outputs": [
    {
     "data": {
      "text/plain": [
       "array([ 3.,  5.,  9.])"
      ]
     },
     "execution_count": 14,
     "metadata": {},
     "output_type": "execute_result"
    }
   ],
   "source": [
    "a[0:3,2]"
   ]
  },
  {
   "cell_type": "code",
   "execution_count": 15,
   "metadata": {
    "collapsed": false
   },
   "outputs": [
    {
     "data": {
      "text/plain": [
       "array([ 9.,  9.,  9.])"
      ]
     },
     "execution_count": 15,
     "metadata": {},
     "output_type": "execute_result"
    }
   ],
   "source": [
    "a[2, 0:3]"
   ]
  },
  {
   "cell_type": "markdown",
   "metadata": {},
   "source": [
    "### Operaciones Aritmeticas"
   ]
  },
  {
   "cell_type": "code",
   "execution_count": 16,
   "metadata": {
    "collapsed": false
   },
   "outputs": [
    {
     "name": "stdout",
     "output_type": "stream",
     "text": [
      "a = [0 1 2 3]\n",
      "a + 5 [5 6 7 8]\n",
      "a * 2 [0 2 4 6]\n",
      "a / 2 [ 0.   0.5  1.   1.5]\n",
      "-a  [ 0 -1 -2 -3]\n",
      "a // 2 = [0 0 1 1]\n",
      "a ** 2 = [0 1 4 9]\n"
     ]
    }
   ],
   "source": [
    "a = np.arange(4)\n",
    "print(\"a =\", a)\n",
    "print(\"a + 5\", a + 5)\n",
    "print(\"a * 2\", a  * 2)\n",
    "print(\"a / 2\", a / 2)\n",
    "print(\"-a \", -a)\n",
    "print(\"a // 2 =\", a // 2)\n",
    "print(\"a ** 2 =\", a ** 2)"
   ]
  },
  {
   "cell_type": "markdown",
   "metadata": {},
   "source": [
    "Operator ufunc (universal function)\n",
    "+        .add\n",
    "-       .substract\n",
    "*       .multiply"
   ]
  },
  {
   "cell_type": "code",
   "execution_count": 17,
   "metadata": {
    "collapsed": false
   },
   "outputs": [
    {
     "data": {
      "text/plain": [
       "array([  1.        ,   2.71828183,   7.3890561 ,  20.08553692])"
      ]
     },
     "metadata": {},
     "output_type": "display_data"
    },
    {
     "data": {
      "text/plain": [
       "array([ 0.        ,  0.69314718,  1.09861229,  1.38629436])"
      ]
     },
     "metadata": {},
     "output_type": "display_data"
    },
    {
     "data": {
      "text/plain": [
       "array([ 0.        ,  1.        ,  1.41421356,  1.73205081])"
      ]
     },
     "metadata": {},
     "output_type": "display_data"
    },
    {
     "data": {
      "text/plain": [
       "array([False, False, False, False], dtype=bool)"
      ]
     },
     "metadata": {},
     "output_type": "display_data"
    }
   ],
   "source": [
    "# otras ufunc interesantes\n",
    "a = np.arange(4)\n",
    "b = np.arange(1,5)\n",
    "\n",
    "display(np.exp(a))\n",
    "display(np.log(b))\n",
    "display(np.sqrt(a))\n",
    "display(np.greater(a, b)) #superior o igual punto a punto"
   ]
  },
  {
   "cell_type": "markdown",
   "metadata": {},
   "source": [
    " ### Rendimiento"
   ]
  },
  {
   "cell_type": "code",
   "execution_count": 18,
   "metadata": {
    "collapsed": false
   },
   "outputs": [
    {
     "name": "stdout",
     "output_type": "stream",
     "text": [
      "1 loop, best of 3: 300 ms per loop\n"
     ]
    }
   ],
   "source": [
    "%%timeit \n",
    "a = np.arange(1000000)\n",
    "b = np.zeros(1000000)\n",
    "i = 0\n",
    "for el in a:\n",
    "    b[i] = el + el\n",
    "    i = i + 1"
   ]
  },
  {
   "cell_type": "code",
   "execution_count": 19,
   "metadata": {
    "collapsed": false
   },
   "outputs": [
    {
     "name": "stdout",
     "output_type": "stream",
     "text": [
      "The slowest run took 21.04 times longer than the fastest. This could mean that an intermediate result is being cached.\n",
      "1000000 loops, best of 3: 698 ns per loop\n"
     ]
    }
   ],
   "source": [
    "%%timeit\n",
    "a+a"
   ]
  },
  {
   "cell_type": "markdown",
   "metadata": {},
   "source": [
    "### Estadistica y Aletoriedad"
   ]
  },
  {
   "cell_type": "code",
   "execution_count": 20,
   "metadata": {
    "collapsed": false
   },
   "outputs": [
    {
     "data": {
      "text/plain": [
       "4.5"
      ]
     },
     "metadata": {},
     "output_type": "display_data"
    },
    {
     "data": {
      "text/plain": [
       "4.5"
      ]
     },
     "metadata": {},
     "output_type": "display_data"
    }
   ],
   "source": [
    "# Estadística\n",
    "a = np.arange(10)\n",
    "\n",
    "display(np.mean(a)) #promedio\n",
    "display(np.median(a)) #mediana"
   ]
  },
  {
   "cell_type": "code",
   "execution_count": 21,
   "metadata": {
    "collapsed": false
   },
   "outputs": [
    {
     "data": {
      "text/plain": [
       "3.6000000000000001"
      ]
     },
     "execution_count": 21,
     "metadata": {},
     "output_type": "execute_result"
    }
   ],
   "source": [
    "np.percentile(a, 40) #percentil"
   ]
  },
  {
   "cell_type": "code",
   "execution_count": 22,
   "metadata": {
    "collapsed": false
   },
   "outputs": [
    {
     "data": {
      "text/plain": [
       "array([ 0.33228462,  0.0165589 ,  0.24828661,  0.90405197,  0.94440584,\n",
       "        0.33239639,  0.2319361 ,  0.62557589,  0.40811135,  0.18285367])"
      ]
     },
     "execution_count": 22,
     "metadata": {},
     "output_type": "execute_result"
    }
   ],
   "source": [
    "np.random.random(10) #aleatoridad"
   ]
  },
  {
   "cell_type": "markdown",
   "metadata": {},
   "source": [
    "# Problema\n",
    "Predicción de Ingresos de películas. Se quiere definir sus políticas de financiamiento de producciones cinematográficas.\n",
    "\n",
    "Sería útil saber que películas tienen más dificultad para recuperar en sus presupuestos. Por consiguiente queremos predecir una métrica: el ingreso mundial generado por una película.\n",
    "\n",
    "- Los ingresos de una película corresponden a valores continuos.\n",
    "- Mi éxito será \"qué tan cerca estoy del valor real de ingreso generado por la pelicula\".\n",
    "- Sí, de forma general existen bastantes caracteristicas que me pueden ayudar a saber que película será exitosa como: calidad, actores, presupuesto, etc...\n",
    "- Quiero predecir ingresos de péliculas, para tomar mejores decisiones de financiamiento, con base a una regresión sobre datos de películas extraídos de internet.\n",
    "- Mi evaluación del éxito será la precisión de mis predicciones.\n",
    "- Podré apoyarme en conocimientos específicos de la industria."
   ]
  },
  {
   "cell_type": "markdown",
   "metadata": {
    "collapsed": true
   },
   "source": [
    "# Preparacion de los datos"
   ]
  },
  {
   "cell_type": "markdown",
   "metadata": {},
   "source": [
    "### Cargar los datos necesarios para el proyecto"
   ]
  },
  {
   "cell_type": "code",
   "execution_count": 23,
   "metadata": {
    "collapsed": true
   },
   "outputs": [],
   "source": [
    "import numpy as np\n",
    "import pandas as pd\n",
    "import matplotlib.pyplot as plt\n",
    "import seaborn as sb"
   ]
  },
  {
   "cell_type": "code",
   "execution_count": 24,
   "metadata": {
    "collapsed": true
   },
   "outputs": [],
   "source": [
    "#metodo magic, para renderizar directamente en el notebook\n",
    "%matplotlib inline"
   ]
  },
  {
   "cell_type": "code",
   "execution_count": 25,
   "metadata": {
    "collapsed": false
   },
   "outputs": [],
   "source": [
    "#read_csv es muy poderoso, parsear fecha, delimitadores personalizados\n",
    "movies = pd.read_csv('datasets/peliculas.csv', encoding='utf-8')"
   ]
  },
  {
   "cell_type": "code",
   "execution_count": 26,
   "metadata": {
    "collapsed": false
   },
   "outputs": [
    {
     "data": {
      "text/html": [
       "<div>\n",
       "<table border=\"1\" class=\"dataframe\">\n",
       "  <thead>\n",
       "    <tr style=\"text-align: right;\">\n",
       "      <th></th>\n",
       "      <th>movie_title</th>\n",
       "      <th>title_year</th>\n",
       "      <th>color</th>\n",
       "      <th>aspect_ratio</th>\n",
       "      <th>duration</th>\n",
       "      <th>language</th>\n",
       "      <th>country</th>\n",
       "      <th>duration.1</th>\n",
       "      <th>genres</th>\n",
       "      <th>content_rating</th>\n",
       "      <th>plot_keywords</th>\n",
       "      <th>director_name</th>\n",
       "      <th>actor_1_name</th>\n",
       "      <th>actor_2_name</th>\n",
       "      <th>actor_3_name</th>\n",
       "      <th>cast_total_facebook_likes</th>\n",
       "      <th>budget</th>\n",
       "      <th>imdb_score</th>\n",
       "      <th>gross</th>\n",
       "    </tr>\n",
       "  </thead>\n",
       "  <tbody>\n",
       "    <tr>\n",
       "      <th>0</th>\n",
       "      <td>Avatar</td>\n",
       "      <td>2009.0</td>\n",
       "      <td>Color</td>\n",
       "      <td>1.78</td>\n",
       "      <td>178.0</td>\n",
       "      <td>English</td>\n",
       "      <td>USA</td>\n",
       "      <td>178.0</td>\n",
       "      <td>Action|Adventure|Fantasy|Sci-Fi</td>\n",
       "      <td>PG-13</td>\n",
       "      <td>avatar|future|marine|native|paraplegic</td>\n",
       "      <td>James Cameron</td>\n",
       "      <td>CCH Pounder</td>\n",
       "      <td>Joel David Moore</td>\n",
       "      <td>Wes Studi</td>\n",
       "      <td>4834</td>\n",
       "      <td>237000000.0</td>\n",
       "      <td>7.9</td>\n",
       "      <td>760505847.0</td>\n",
       "    </tr>\n",
       "    <tr>\n",
       "      <th>1</th>\n",
       "      <td>Pirates of the Caribbean: At World's End</td>\n",
       "      <td>2007.0</td>\n",
       "      <td>Color</td>\n",
       "      <td>2.35</td>\n",
       "      <td>169.0</td>\n",
       "      <td>English</td>\n",
       "      <td>USA</td>\n",
       "      <td>169.0</td>\n",
       "      <td>Action|Adventure|Fantasy</td>\n",
       "      <td>PG-13</td>\n",
       "      <td>goddess|marriage ceremony|marriage proposal|pi...</td>\n",
       "      <td>Gore Verbinski</td>\n",
       "      <td>Johnny Depp</td>\n",
       "      <td>Orlando Bloom</td>\n",
       "      <td>Jack Davenport</td>\n",
       "      <td>48350</td>\n",
       "      <td>300000000.0</td>\n",
       "      <td>7.1</td>\n",
       "      <td>309404152.0</td>\n",
       "    </tr>\n",
       "    <tr>\n",
       "      <th>2</th>\n",
       "      <td>Spectre</td>\n",
       "      <td>2015.0</td>\n",
       "      <td>Color</td>\n",
       "      <td>2.35</td>\n",
       "      <td>148.0</td>\n",
       "      <td>English</td>\n",
       "      <td>UK</td>\n",
       "      <td>148.0</td>\n",
       "      <td>Action|Adventure|Thriller</td>\n",
       "      <td>PG-13</td>\n",
       "      <td>bomb|espionage|sequel|spy|terrorist</td>\n",
       "      <td>Sam Mendes</td>\n",
       "      <td>Christoph Waltz</td>\n",
       "      <td>Rory Kinnear</td>\n",
       "      <td>Stephanie Sigman</td>\n",
       "      <td>11700</td>\n",
       "      <td>245000000.0</td>\n",
       "      <td>6.8</td>\n",
       "      <td>200074175.0</td>\n",
       "    </tr>\n",
       "    <tr>\n",
       "      <th>3</th>\n",
       "      <td>The Dark Knight Rises</td>\n",
       "      <td>2012.0</td>\n",
       "      <td>Color</td>\n",
       "      <td>2.35</td>\n",
       "      <td>164.0</td>\n",
       "      <td>English</td>\n",
       "      <td>USA</td>\n",
       "      <td>164.0</td>\n",
       "      <td>Action|Thriller</td>\n",
       "      <td>PG-13</td>\n",
       "      <td>deception|imprisonment|lawlessness|police offi...</td>\n",
       "      <td>Christopher Nolan</td>\n",
       "      <td>Tom Hardy</td>\n",
       "      <td>Christian Bale</td>\n",
       "      <td>Joseph Gordon-Levitt</td>\n",
       "      <td>106759</td>\n",
       "      <td>250000000.0</td>\n",
       "      <td>8.5</td>\n",
       "      <td>448130642.0</td>\n",
       "    </tr>\n",
       "    <tr>\n",
       "      <th>4</th>\n",
       "      <td>Star Wars: Episode VII - The Force Awakens    ...</td>\n",
       "      <td>NaN</td>\n",
       "      <td>NaN</td>\n",
       "      <td>NaN</td>\n",
       "      <td>NaN</td>\n",
       "      <td>NaN</td>\n",
       "      <td>NaN</td>\n",
       "      <td>NaN</td>\n",
       "      <td>Documentary</td>\n",
       "      <td>NaN</td>\n",
       "      <td>NaN</td>\n",
       "      <td>Doug Walker</td>\n",
       "      <td>Doug Walker</td>\n",
       "      <td>Rob Walker</td>\n",
       "      <td>NaN</td>\n",
       "      <td>143</td>\n",
       "      <td>NaN</td>\n",
       "      <td>7.1</td>\n",
       "      <td>NaN</td>\n",
       "    </tr>\n",
       "  </tbody>\n",
       "</table>\n",
       "</div>"
      ],
      "text/plain": [
       "                                         movie_title  title_year  color  \\\n",
       "0                                            Avatar       2009.0  Color   \n",
       "1          Pirates of the Caribbean: At World's End       2007.0  Color   \n",
       "2                                           Spectre       2015.0  Color   \n",
       "3                             The Dark Knight Rises       2012.0  Color   \n",
       "4  Star Wars: Episode VII - The Force Awakens    ...         NaN    NaN   \n",
       "\n",
       "   aspect_ratio  duration language country  duration.1  \\\n",
       "0          1.78     178.0  English     USA       178.0   \n",
       "1          2.35     169.0  English     USA       169.0   \n",
       "2          2.35     148.0  English      UK       148.0   \n",
       "3          2.35     164.0  English     USA       164.0   \n",
       "4           NaN       NaN      NaN     NaN         NaN   \n",
       "\n",
       "                            genres content_rating  \\\n",
       "0  Action|Adventure|Fantasy|Sci-Fi          PG-13   \n",
       "1         Action|Adventure|Fantasy          PG-13   \n",
       "2        Action|Adventure|Thriller          PG-13   \n",
       "3                  Action|Thriller          PG-13   \n",
       "4                      Documentary            NaN   \n",
       "\n",
       "                                       plot_keywords      director_name  \\\n",
       "0             avatar|future|marine|native|paraplegic      James Cameron   \n",
       "1  goddess|marriage ceremony|marriage proposal|pi...     Gore Verbinski   \n",
       "2                bomb|espionage|sequel|spy|terrorist         Sam Mendes   \n",
       "3  deception|imprisonment|lawlessness|police offi...  Christopher Nolan   \n",
       "4                                                NaN        Doug Walker   \n",
       "\n",
       "      actor_1_name      actor_2_name          actor_3_name  \\\n",
       "0      CCH Pounder  Joel David Moore             Wes Studi   \n",
       "1      Johnny Depp     Orlando Bloom        Jack Davenport   \n",
       "2  Christoph Waltz      Rory Kinnear      Stephanie Sigman   \n",
       "3        Tom Hardy    Christian Bale  Joseph Gordon-Levitt   \n",
       "4      Doug Walker        Rob Walker                   NaN   \n",
       "\n",
       "   cast_total_facebook_likes       budget  imdb_score        gross  \n",
       "0                       4834  237000000.0         7.9  760505847.0  \n",
       "1                      48350  300000000.0         7.1  309404152.0  \n",
       "2                      11700  245000000.0         6.8  200074175.0  \n",
       "3                     106759  250000000.0         8.5  448130642.0  \n",
       "4                        143          NaN         7.1          NaN  "
      ]
     },
     "execution_count": 26,
     "metadata": {},
     "output_type": "execute_result"
    }
   ],
   "source": [
    "movies.head()"
   ]
  },
  {
   "cell_type": "markdown",
   "metadata": {},
   "source": [
    "el feature (label) mas importante es la variable objetivo gross (gross income tax)\n",
    "Impuesto de ingreso bruto"
   ]
  },
  {
   "cell_type": "code",
   "execution_count": 27,
   "metadata": {
    "collapsed": false
   },
   "outputs": [
    {
     "data": {
      "text/plain": [
       "(5043, 19)"
      ]
     },
     "execution_count": 27,
     "metadata": {},
     "output_type": "execute_result"
    }
   ],
   "source": [
    "# Cuantas lineas y columnas tiene nuestro dataframe\n",
    "### Un dataframe es una estructura de datos que se compone de los elementos siguientes\n",
    "movies.shape"
   ]
  },
  {
   "cell_type": "markdown",
   "metadata": {},
   "source": [
    "<h3>Estructura de un Dataframe</h3>\n",
    "<img src='img/pandas_dataframe.png' />"
   ]
  },
  {
   "cell_type": "code",
   "execution_count": 28,
   "metadata": {
    "collapsed": false
   },
   "outputs": [
    {
     "data": {
      "text/plain": [
       "Index(['movie_title', 'title_year', 'color', 'aspect_ratio', 'duration',\n",
       "       'language', 'country', 'duration.1', 'genres', 'content_rating',\n",
       "       'plot_keywords', 'director_name', 'actor_1_name', 'actor_2_name',\n",
       "       'actor_3_name', 'cast_total_facebook_likes', 'budget', 'imdb_score',\n",
       "       'gross'],\n",
       "      dtype='object')"
      ]
     },
     "execution_count": 28,
     "metadata": {},
     "output_type": "execute_result"
    }
   ],
   "source": [
    "#visualizemos las columnas\n",
    "movies.columns"
   ]
  },
  {
   "cell_type": "code",
   "execution_count": 29,
   "metadata": {
    "collapsed": false
   },
   "outputs": [
    {
     "data": {
      "text/plain": [
       "RangeIndex(start=0, stop=5043, step=1)"
      ]
     },
     "execution_count": 29,
     "metadata": {},
     "output_type": "execute_result"
    }
   ],
   "source": [
    "movies.index"
   ]
  },
  {
   "cell_type": "code",
   "execution_count": 30,
   "metadata": {
    "collapsed": false
   },
   "outputs": [
    {
     "data": {
      "text/plain": [
       "0                                              Avatar \n",
       "1            Pirates of the Caribbean: At World's End \n",
       "2                                             Spectre \n",
       "3                               The Dark Knight Rises \n",
       "4    Star Wars: Episode VII - The Force Awakens    ...\n",
       "Name: movie_title, dtype: object"
      ]
     },
     "execution_count": 30,
     "metadata": {},
     "output_type": "execute_result"
    }
   ],
   "source": [
    "movies.loc[:,'movie_title'].head()"
   ]
  },
  {
   "cell_type": "markdown",
   "metadata": {},
   "source": [
    "### Inspeccionar Datos"
   ]
  },
  {
   "cell_type": "code",
   "execution_count": 31,
   "metadata": {
    "collapsed": false
   },
   "outputs": [
    {
     "name": "stdout",
     "output_type": "stream",
     "text": [
      "<class 'pandas.core.frame.DataFrame'>\n",
      "RangeIndex: 5043 entries, 0 to 5042\n",
      "Data columns (total 19 columns):\n",
      "movie_title                  5043 non-null object\n",
      "title_year                   4935 non-null float64\n",
      "color                        5024 non-null object\n",
      "aspect_ratio                 4714 non-null float64\n",
      "duration                     5028 non-null float64\n",
      "language                     5031 non-null object\n",
      "country                      5038 non-null object\n",
      "duration.1                   5028 non-null float64\n",
      "genres                       5043 non-null object\n",
      "content_rating               4740 non-null object\n",
      "plot_keywords                4890 non-null object\n",
      "director_name                4939 non-null object\n",
      "actor_1_name                 5036 non-null object\n",
      "actor_2_name                 5030 non-null object\n",
      "actor_3_name                 5020 non-null object\n",
      "cast_total_facebook_likes    5043 non-null int64\n",
      "budget                       4551 non-null float64\n",
      "imdb_score                   5043 non-null float64\n",
      "gross                        4159 non-null float64\n",
      "dtypes: float64(7), int64(1), object(11)\n",
      "memory usage: 748.6+ KB\n"
     ]
    }
   ],
   "source": [
    "movies.info()"
   ]
  },
  {
   "cell_type": "markdown",
   "metadata": {},
   "source": [
    "### Separar campos numericos de textos"
   ]
  },
  {
   "cell_type": "code",
   "execution_count": 32,
   "metadata": {
    "collapsed": false
   },
   "outputs": [
    {
     "data": {
      "text/plain": [
       "movie_title                  False\n",
       "title_year                    True\n",
       "color                        False\n",
       "aspect_ratio                  True\n",
       "duration                      True\n",
       "language                     False\n",
       "country                      False\n",
       "duration.1                    True\n",
       "genres                       False\n",
       "content_rating               False\n",
       "plot_keywords                False\n",
       "director_name                False\n",
       "actor_1_name                 False\n",
       "actor_2_name                 False\n",
       "actor_3_name                 False\n",
       "cast_total_facebook_likes     True\n",
       "budget                        True\n",
       "imdb_score                    True\n",
       "gross                         True\n",
       "dtype: bool"
      ]
     },
     "execution_count": 32,
     "metadata": {},
     "output_type": "execute_result"
    }
   ],
   "source": [
    "only_num = (movies.dtypes == float) | (movies.dtypes == int)\n",
    "only_num"
   ]
  },
  {
   "cell_type": "code",
   "execution_count": 33,
   "metadata": {
    "collapsed": false
   },
   "outputs": [
    {
     "data": {
      "text/plain": [
       "['movie_title',\n",
       " 'title_year',\n",
       " 'color',\n",
       " 'aspect_ratio',\n",
       " 'duration',\n",
       " 'language',\n",
       " 'country',\n",
       " 'duration.1',\n",
       " 'genres',\n",
       " 'content_rating',\n",
       " 'plot_keywords',\n",
       " 'director_name',\n",
       " 'actor_1_name',\n",
       " 'actor_2_name',\n",
       " 'actor_3_name',\n",
       " 'cast_total_facebook_likes',\n",
       " 'budget',\n",
       " 'imdb_score',\n",
       " 'gross']"
      ]
     },
     "execution_count": 33,
     "metadata": {},
     "output_type": "execute_result"
    }
   ],
   "source": [
    "only_num.index.values.tolist()"
   ]
  },
  {
   "cell_type": "code",
   "execution_count": 34,
   "metadata": {
    "collapsed": true
   },
   "outputs": [],
   "source": [
    "only_obj = (movies.dtypes == object)\n",
    "obj_cols = [c for c in only_obj.index if only_obj[c]]\n",
    "num_cols = [c for c in only_num.index if only_num[c]]"
   ]
  },
  {
   "cell_type": "code",
   "execution_count": 35,
   "metadata": {
    "collapsed": false
   },
   "outputs": [
    {
     "data": {
      "text/html": [
       "<div>\n",
       "<table border=\"1\" class=\"dataframe\">\n",
       "  <thead>\n",
       "    <tr style=\"text-align: right;\">\n",
       "      <th></th>\n",
       "      <th>title_year</th>\n",
       "      <th>aspect_ratio</th>\n",
       "      <th>duration</th>\n",
       "      <th>duration.1</th>\n",
       "      <th>cast_total_facebook_likes</th>\n",
       "      <th>budget</th>\n",
       "      <th>imdb_score</th>\n",
       "      <th>gross</th>\n",
       "    </tr>\n",
       "  </thead>\n",
       "  <tbody>\n",
       "    <tr>\n",
       "      <th>count</th>\n",
       "      <td>4935.000000</td>\n",
       "      <td>4714.000000</td>\n",
       "      <td>5028.000000</td>\n",
       "      <td>5028.000000</td>\n",
       "      <td>5043.000000</td>\n",
       "      <td>4.551000e+03</td>\n",
       "      <td>5043.000000</td>\n",
       "      <td>4.159000e+03</td>\n",
       "    </tr>\n",
       "    <tr>\n",
       "      <th>mean</th>\n",
       "      <td>2002.470517</td>\n",
       "      <td>2.220403</td>\n",
       "      <td>107.201074</td>\n",
       "      <td>107.201074</td>\n",
       "      <td>9699.063851</td>\n",
       "      <td>3.975262e+07</td>\n",
       "      <td>6.442138</td>\n",
       "      <td>4.846841e+07</td>\n",
       "    </tr>\n",
       "    <tr>\n",
       "      <th>std</th>\n",
       "      <td>12.474599</td>\n",
       "      <td>1.385113</td>\n",
       "      <td>25.197441</td>\n",
       "      <td>25.197441</td>\n",
       "      <td>18163.799124</td>\n",
       "      <td>2.061149e+08</td>\n",
       "      <td>1.125116</td>\n",
       "      <td>6.845299e+07</td>\n",
       "    </tr>\n",
       "    <tr>\n",
       "      <th>min</th>\n",
       "      <td>1916.000000</td>\n",
       "      <td>1.180000</td>\n",
       "      <td>7.000000</td>\n",
       "      <td>7.000000</td>\n",
       "      <td>0.000000</td>\n",
       "      <td>2.180000e+02</td>\n",
       "      <td>1.600000</td>\n",
       "      <td>1.620000e+02</td>\n",
       "    </tr>\n",
       "    <tr>\n",
       "      <th>25%</th>\n",
       "      <td>1999.000000</td>\n",
       "      <td>1.850000</td>\n",
       "      <td>93.000000</td>\n",
       "      <td>93.000000</td>\n",
       "      <td>1411.000000</td>\n",
       "      <td>6.000000e+06</td>\n",
       "      <td>5.800000</td>\n",
       "      <td>5.340988e+06</td>\n",
       "    </tr>\n",
       "    <tr>\n",
       "      <th>50%</th>\n",
       "      <td>2005.000000</td>\n",
       "      <td>2.350000</td>\n",
       "      <td>103.000000</td>\n",
       "      <td>103.000000</td>\n",
       "      <td>3090.000000</td>\n",
       "      <td>2.000000e+07</td>\n",
       "      <td>6.600000</td>\n",
       "      <td>2.551750e+07</td>\n",
       "    </tr>\n",
       "    <tr>\n",
       "      <th>75%</th>\n",
       "      <td>2011.000000</td>\n",
       "      <td>2.350000</td>\n",
       "      <td>118.000000</td>\n",
       "      <td>118.000000</td>\n",
       "      <td>13756.500000</td>\n",
       "      <td>4.500000e+07</td>\n",
       "      <td>7.200000</td>\n",
       "      <td>6.230944e+07</td>\n",
       "    </tr>\n",
       "    <tr>\n",
       "      <th>max</th>\n",
       "      <td>2016.000000</td>\n",
       "      <td>16.000000</td>\n",
       "      <td>511.000000</td>\n",
       "      <td>511.000000</td>\n",
       "      <td>656730.000000</td>\n",
       "      <td>1.221550e+10</td>\n",
       "      <td>9.500000</td>\n",
       "      <td>7.605058e+08</td>\n",
       "    </tr>\n",
       "  </tbody>\n",
       "</table>\n",
       "</div>"
      ],
      "text/plain": [
       "        title_year  aspect_ratio     duration   duration.1  \\\n",
       "count  4935.000000   4714.000000  5028.000000  5028.000000   \n",
       "mean   2002.470517      2.220403   107.201074   107.201074   \n",
       "std      12.474599      1.385113    25.197441    25.197441   \n",
       "min    1916.000000      1.180000     7.000000     7.000000   \n",
       "25%    1999.000000      1.850000    93.000000    93.000000   \n",
       "50%    2005.000000      2.350000   103.000000   103.000000   \n",
       "75%    2011.000000      2.350000   118.000000   118.000000   \n",
       "max    2016.000000     16.000000   511.000000   511.000000   \n",
       "\n",
       "       cast_total_facebook_likes        budget   imdb_score         gross  \n",
       "count                5043.000000  4.551000e+03  5043.000000  4.159000e+03  \n",
       "mean                 9699.063851  3.975262e+07     6.442138  4.846841e+07  \n",
       "std                 18163.799124  2.061149e+08     1.125116  6.845299e+07  \n",
       "min                     0.000000  2.180000e+02     1.600000  1.620000e+02  \n",
       "25%                  1411.000000  6.000000e+06     5.800000  5.340988e+06  \n",
       "50%                  3090.000000  2.000000e+07     6.600000  2.551750e+07  \n",
       "75%                 13756.500000  4.500000e+07     7.200000  6.230944e+07  \n",
       "max                656730.000000  1.221550e+10     9.500000  7.605058e+08  "
      ]
     },
     "execution_count": 35,
     "metadata": {},
     "output_type": "execute_result"
    }
   ],
   "source": [
    "# Estadísticas de las columnas númericas\n",
    "movies_num = movies[num_cols]\n",
    "movies_num.describe()"
   ]
  },
  {
   "cell_type": "code",
   "execution_count": 36,
   "metadata": {
    "collapsed": false
   },
   "outputs": [
    {
     "data": {
      "text/plain": [
       "<matplotlib.axes._subplots.AxesSubplot at 0x7f8d00891ac8>"
      ]
     },
     "execution_count": 36,
     "metadata": {},
     "output_type": "execute_result"
    },
    {
     "data": {
      "image/png": "[encoded data removed]",
      "text/plain": [
       "<matplotlib.figure.Figure at 0x7f8d0086c5c0>"
      ]
     },
     "metadata": {},
     "output_type": "display_data"
    }
   ],
   "source": [
    "movies_num['duration'].hist()"
   ]
  },
  {
   "cell_type": "code",
   "execution_count": 37,
   "metadata": {
    "collapsed": false
   },
   "outputs": [
    {
     "data": {
      "text/plain": [
       "<matplotlib.axes._subplots.AxesSubplot at 0x7f8cfe0cb6d8>"
      ]
     },
     "execution_count": 37,
     "metadata": {},
     "output_type": "execute_result"
    },
    {
     "data": {
      "image/png": "[encoded data removed]",
      "text/plain": [
       "<matplotlib.figure.Figure at 0x7f8cfe08b128>"
      ]
     },
     "metadata": {},
     "output_type": "display_data"
    }
   ],
   "source": [
    "movies_num['imdb_score'].hist()"
   ]
  },
  {
   "cell_type": "code",
   "execution_count": 38,
   "metadata": {
    "collapsed": false
   },
   "outputs": [
    {
     "data": {
      "text/plain": [
       "<matplotlib.axes._subplots.AxesSubplot at 0x7f8cfe0a9d68>"
      ]
     },
     "execution_count": 38,
     "metadata": {},
     "output_type": "execute_result"
    },
    {
     "data": {
      "image/png": "[encoded data removed]",
      "text/plain": [
       "<matplotlib.figure.Figure at 0x7f8cfe02e400>"
      ]
     },
     "metadata": {},
     "output_type": "display_data"
    }
   ],
   "source": [
    "# presupuesto\n",
    "movies_num['budget'].hist()"
   ]
  },
  {
   "cell_type": "markdown",
   "metadata": {},
   "source": [
    ">Para poder debuggear esta situación utilizaremos una tecnica muy tipica de pandas que se llama **boolean filtering**. Basicamente construimos una serie de booleanos con el mismo indice que nuestro dataframe (la serie clasicamente la llamaremos mask)."
   ]
  },
  {
   "cell_type": "code",
   "execution_count": 39,
   "metadata": {
    "collapsed": false
   },
   "outputs": [
    {
     "data": {
      "text/plain": [
       "0       False\n",
       "1       False\n",
       "2       False\n",
       "3       False\n",
       "4       False\n",
       "5       False\n",
       "6       False\n",
       "7       False\n",
       "8       False\n",
       "9       False\n",
       "10      False\n",
       "11      False\n",
       "12      False\n",
       "13      False\n",
       "14      False\n",
       "15      False\n",
       "16      False\n",
       "17      False\n",
       "18      False\n",
       "19      False\n",
       "20      False\n",
       "21      False\n",
       "22      False\n",
       "23      False\n",
       "24      False\n",
       "25      False\n",
       "26      False\n",
       "27      False\n",
       "28      False\n",
       "29      False\n",
       "        ...  \n",
       "5013    False\n",
       "5014    False\n",
       "5015    False\n",
       "5016    False\n",
       "5017    False\n",
       "5018    False\n",
       "5019    False\n",
       "5020    False\n",
       "5021    False\n",
       "5022    False\n",
       "5023    False\n",
       "5024    False\n",
       "5025    False\n",
       "5026    False\n",
       "5027    False\n",
       "5028    False\n",
       "5029    False\n",
       "5030    False\n",
       "5031    False\n",
       "5032    False\n",
       "5033    False\n",
       "5034    False\n",
       "5035    False\n",
       "5036    False\n",
       "5037    False\n",
       "5038    False\n",
       "5039    False\n",
       "5040    False\n",
       "5041    False\n",
       "5042    False\n",
       "Name: budget, dtype: bool"
      ]
     },
     "execution_count": 39,
     "metadata": {},
     "output_type": "execute_result"
    }
   ],
   "source": [
    "mask = (movies_num['budget'] > 1e9)\n",
    "mask"
   ]
  },
  {
   "cell_type": "code",
   "execution_count": 40,
   "metadata": {
    "collapsed": false
   },
   "outputs": [
    {
     "data": {
      "text/html": [
       "<div>\n",
       "<table border=\"1\" class=\"dataframe\">\n",
       "  <thead>\n",
       "    <tr style=\"text-align: right;\">\n",
       "      <th></th>\n",
       "      <th>movie_title</th>\n",
       "      <th>title_year</th>\n",
       "      <th>color</th>\n",
       "      <th>aspect_ratio</th>\n",
       "      <th>duration</th>\n",
       "      <th>language</th>\n",
       "      <th>country</th>\n",
       "      <th>duration.1</th>\n",
       "      <th>genres</th>\n",
       "      <th>content_rating</th>\n",
       "      <th>plot_keywords</th>\n",
       "      <th>director_name</th>\n",
       "      <th>actor_1_name</th>\n",
       "      <th>actor_2_name</th>\n",
       "      <th>actor_3_name</th>\n",
       "      <th>cast_total_facebook_likes</th>\n",
       "      <th>budget</th>\n",
       "      <th>imdb_score</th>\n",
       "      <th>gross</th>\n",
       "    </tr>\n",
       "  </thead>\n",
       "  <tbody>\n",
       "    <tr>\n",
       "      <th>2323</th>\n",
       "      <td>Princess Mononoke</td>\n",
       "      <td>1997.0</td>\n",
       "      <td>Color</td>\n",
       "      <td>1.85</td>\n",
       "      <td>134.0</td>\n",
       "      <td>Japanese</td>\n",
       "      <td>Japan</td>\n",
       "      <td>134.0</td>\n",
       "      <td>Adventure|Animation|Fantasy</td>\n",
       "      <td>PG-13</td>\n",
       "      <td>anime|cult film|forest|princess|studio ghibli</td>\n",
       "      <td>Hayao Miyazaki</td>\n",
       "      <td>Minnie Driver</td>\n",
       "      <td>Jada Pinkett Smith</td>\n",
       "      <td>Billy Crudup</td>\n",
       "      <td>2710</td>\n",
       "      <td>2.400000e+09</td>\n",
       "      <td>8.4</td>\n",
       "      <td>2298191.0</td>\n",
       "    </tr>\n",
       "    <tr>\n",
       "      <th>2334</th>\n",
       "      <td>Steamboy</td>\n",
       "      <td>2004.0</td>\n",
       "      <td>Color</td>\n",
       "      <td>1.85</td>\n",
       "      <td>103.0</td>\n",
       "      <td>Japanese</td>\n",
       "      <td>Japan</td>\n",
       "      <td>103.0</td>\n",
       "      <td>Action|Adventure|Animation|Family|Sci-Fi|Thriller</td>\n",
       "      <td>PG-13</td>\n",
       "      <td>19th century|ball|boy|inventor|steam</td>\n",
       "      <td>Katsuhiro Ôtomo</td>\n",
       "      <td>William Hootkins</td>\n",
       "      <td>Robin Atkin Downes</td>\n",
       "      <td>Rosalind Ayres</td>\n",
       "      <td>991</td>\n",
       "      <td>2.127520e+09</td>\n",
       "      <td>6.9</td>\n",
       "      <td>410388.0</td>\n",
       "    </tr>\n",
       "    <tr>\n",
       "      <th>2988</th>\n",
       "      <td>The Host</td>\n",
       "      <td>2006.0</td>\n",
       "      <td>Color</td>\n",
       "      <td>1.85</td>\n",
       "      <td>110.0</td>\n",
       "      <td>Korean</td>\n",
       "      <td>South Korea</td>\n",
       "      <td>110.0</td>\n",
       "      <td>Comedy|Drama|Horror|Sci-Fi</td>\n",
       "      <td>R</td>\n",
       "      <td>daughter|han river|monster|river|seoul</td>\n",
       "      <td>Joon-ho Bong</td>\n",
       "      <td>Doona Bae</td>\n",
       "      <td>Kang-ho Song</td>\n",
       "      <td>Ah-sung Ko</td>\n",
       "      <td>1173</td>\n",
       "      <td>1.221550e+10</td>\n",
       "      <td>7.0</td>\n",
       "      <td>2201412.0</td>\n",
       "    </tr>\n",
       "    <tr>\n",
       "      <th>3005</th>\n",
       "      <td>Fateless</td>\n",
       "      <td>2005.0</td>\n",
       "      <td>Color</td>\n",
       "      <td>2.35</td>\n",
       "      <td>134.0</td>\n",
       "      <td>Hungarian</td>\n",
       "      <td>Hungary</td>\n",
       "      <td>134.0</td>\n",
       "      <td>Drama|Romance|War</td>\n",
       "      <td>R</td>\n",
       "      <td>bus|death|gay slur|hatred|jewish</td>\n",
       "      <td>Lajos Koltai</td>\n",
       "      <td>Marcell Nagy</td>\n",
       "      <td>Péter Fancsikai</td>\n",
       "      <td>Bálint Péntek</td>\n",
       "      <td>11</td>\n",
       "      <td>2.500000e+09</td>\n",
       "      <td>7.1</td>\n",
       "      <td>195888.0</td>\n",
       "    </tr>\n",
       "    <tr>\n",
       "      <th>3423</th>\n",
       "      <td>Akira</td>\n",
       "      <td>1988.0</td>\n",
       "      <td>Color</td>\n",
       "      <td>1.85</td>\n",
       "      <td>124.0</td>\n",
       "      <td>Japanese</td>\n",
       "      <td>Japan</td>\n",
       "      <td>124.0</td>\n",
       "      <td>Action|Animation|Sci-Fi</td>\n",
       "      <td>R</td>\n",
       "      <td>based on manga|biker gang|gifted child|post th...</td>\n",
       "      <td>Katsuhiro Ôtomo</td>\n",
       "      <td>Mitsuo Iwata</td>\n",
       "      <td>Takeshi Kusao</td>\n",
       "      <td>Tesshô Genda</td>\n",
       "      <td>28</td>\n",
       "      <td>1.100000e+09</td>\n",
       "      <td>8.1</td>\n",
       "      <td>439162.0</td>\n",
       "    </tr>\n",
       "    <tr>\n",
       "      <th>3859</th>\n",
       "      <td>Lady Vengeance</td>\n",
       "      <td>2005.0</td>\n",
       "      <td>Color</td>\n",
       "      <td>2.35</td>\n",
       "      <td>112.0</td>\n",
       "      <td>Korean</td>\n",
       "      <td>South Korea</td>\n",
       "      <td>112.0</td>\n",
       "      <td>Crime|Drama</td>\n",
       "      <td>R</td>\n",
       "      <td>cake|christian|lesbian sex|oral sex|pregnant s...</td>\n",
       "      <td>Chan-wook Park</td>\n",
       "      <td>Min-sik Choi</td>\n",
       "      <td>Yeong-ae Lee</td>\n",
       "      <td>Hye-jeong Kang</td>\n",
       "      <td>907</td>\n",
       "      <td>4.200000e+09</td>\n",
       "      <td>7.7</td>\n",
       "      <td>211667.0</td>\n",
       "    </tr>\n",
       "  </tbody>\n",
       "</table>\n",
       "</div>"
      ],
      "text/plain": [
       "             movie_title  title_year  color  aspect_ratio  duration  \\\n",
       "2323  Princess Mononoke       1997.0  Color          1.85     134.0   \n",
       "2334           Steamboy       2004.0  Color          1.85     103.0   \n",
       "2988           The Host       2006.0  Color          1.85     110.0   \n",
       "3005           Fateless       2005.0  Color          2.35     134.0   \n",
       "3423              Akira       1988.0  Color          1.85     124.0   \n",
       "3859     Lady Vengeance       2005.0  Color          2.35     112.0   \n",
       "\n",
       "       language      country  duration.1  \\\n",
       "2323   Japanese        Japan       134.0   \n",
       "2334   Japanese        Japan       103.0   \n",
       "2988     Korean  South Korea       110.0   \n",
       "3005  Hungarian      Hungary       134.0   \n",
       "3423   Japanese        Japan       124.0   \n",
       "3859     Korean  South Korea       112.0   \n",
       "\n",
       "                                                 genres content_rating  \\\n",
       "2323                        Adventure|Animation|Fantasy          PG-13   \n",
       "2334  Action|Adventure|Animation|Family|Sci-Fi|Thriller          PG-13   \n",
       "2988                         Comedy|Drama|Horror|Sci-Fi              R   \n",
       "3005                                  Drama|Romance|War              R   \n",
       "3423                            Action|Animation|Sci-Fi              R   \n",
       "3859                                        Crime|Drama              R   \n",
       "\n",
       "                                          plot_keywords    director_name  \\\n",
       "2323      anime|cult film|forest|princess|studio ghibli   Hayao Miyazaki   \n",
       "2334               19th century|ball|boy|inventor|steam  Katsuhiro Ôtomo   \n",
       "2988             daughter|han river|monster|river|seoul     Joon-ho Bong   \n",
       "3005                   bus|death|gay slur|hatred|jewish     Lajos Koltai   \n",
       "3423  based on manga|biker gang|gifted child|post th...  Katsuhiro Ôtomo   \n",
       "3859  cake|christian|lesbian sex|oral sex|pregnant s...   Chan-wook Park   \n",
       "\n",
       "          actor_1_name        actor_2_name    actor_3_name  \\\n",
       "2323     Minnie Driver  Jada Pinkett Smith    Billy Crudup   \n",
       "2334  William Hootkins  Robin Atkin Downes  Rosalind Ayres   \n",
       "2988         Doona Bae        Kang-ho Song      Ah-sung Ko   \n",
       "3005      Marcell Nagy     Péter Fancsikai   Bálint Péntek   \n",
       "3423      Mitsuo Iwata       Takeshi Kusao    Tesshô Genda   \n",
       "3859      Min-sik Choi        Yeong-ae Lee  Hye-jeong Kang   \n",
       "\n",
       "      cast_total_facebook_likes        budget  imdb_score      gross  \n",
       "2323                       2710  2.400000e+09         8.4  2298191.0  \n",
       "2334                        991  2.127520e+09         6.9   410388.0  \n",
       "2988                       1173  1.221550e+10         7.0  2201412.0  \n",
       "3005                         11  2.500000e+09         7.1   195888.0  \n",
       "3423                         28  1.100000e+09         8.1   439162.0  \n",
       "3859                        907  4.200000e+09         7.7   211667.0  "
      ]
     },
     "execution_count": 40,
     "metadata": {},
     "output_type": "execute_result"
    }
   ],
   "source": [
    "movies[mask]"
   ]
  },
  {
   "cell_type": "markdown",
   "metadata": {},
   "source": [
    "> Tenemos un problema de limpieza de los datos. La BDD fue creada sin diferenciar:\n",
    "\n",
    "- La moneda en la que se ingresaba el presupuesto y el ingreso.\n",
    "- La zona (país/mundial) en la que se registro el ingreso"
   ]
  },
  {
   "cell_type": "code",
   "execution_count": 41,
   "metadata": {
    "collapsed": false
   },
   "outputs": [],
   "source": [
    "# Importar BBDD thenumbers.com## Ahora manejaremos los datos faltantes (nulos o NaN). \n",
    "df_financials = pd.read_csv('datasets/thenumbers.csv')"
   ]
  },
  {
   "cell_type": "code",
   "execution_count": 42,
   "metadata": {
    "collapsed": false
   },
   "outputs": [
    {
     "data": {
      "text/html": [
       "<div>\n",
       "<table border=\"1\" class=\"dataframe\">\n",
       "  <thead>\n",
       "    <tr style=\"text-align: right;\">\n",
       "      <th></th>\n",
       "      <th>Unnamed: 0</th>\n",
       "      <th>movie_name</th>\n",
       "      <th>domestic_gross</th>\n",
       "      <th>movie_link</th>\n",
       "      <th>production_budget</th>\n",
       "      <th>release_date</th>\n",
       "      <th>worldwide_gross</th>\n",
       "      <th>movie_title</th>\n",
       "    </tr>\n",
       "  </thead>\n",
       "  <tbody>\n",
       "    <tr>\n",
       "      <th>0</th>\n",
       "      <td>0</td>\n",
       "      <td>Avatar</td>\n",
       "      <td>760507625</td>\n",
       "      <td>http://www.the-numbers.com/movie/Avatar#tab=su...</td>\n",
       "      <td>425000000</td>\n",
       "      <td>12/18/2009</td>\n",
       "      <td>2783918982</td>\n",
       "      <td>Avatar</td>\n",
       "    </tr>\n",
       "    <tr>\n",
       "      <th>1</th>\n",
       "      <td>1</td>\n",
       "      <td>Star Wars Ep. VII: The Force Awakens</td>\n",
       "      <td>936662225</td>\n",
       "      <td>http://www.the-numbers.com/movie/Star-Wars-Ep-...</td>\n",
       "      <td>306000000</td>\n",
       "      <td>12/18/2015</td>\n",
       "      <td>2058662225</td>\n",
       "      <td>Star Wars: Episode VII - The Force Awakens    ...</td>\n",
       "    </tr>\n",
       "    <tr>\n",
       "      <th>2</th>\n",
       "      <td>2</td>\n",
       "      <td>Pirates of the Caribbean: At World's End</td>\n",
       "      <td>309420425</td>\n",
       "      <td>http://www.the-numbers.com/movie/Pirates-of-th...</td>\n",
       "      <td>300000000</td>\n",
       "      <td>5/24/2007</td>\n",
       "      <td>963420425</td>\n",
       "      <td>Pirates of the Caribbean: At World's End</td>\n",
       "    </tr>\n",
       "    <tr>\n",
       "      <th>3</th>\n",
       "      <td>3</td>\n",
       "      <td>Spectre</td>\n",
       "      <td>200074175</td>\n",
       "      <td>http://www.the-numbers.com/movie/Spectre#tab=s...</td>\n",
       "      <td>300000000</td>\n",
       "      <td>11/6/2015</td>\n",
       "      <td>879620923</td>\n",
       "      <td>Spectre</td>\n",
       "    </tr>\n",
       "    <tr>\n",
       "      <th>4</th>\n",
       "      <td>4</td>\n",
       "      <td>The Dark Knight Rises</td>\n",
       "      <td>448139099</td>\n",
       "      <td>http://www.the-numbers.com/movie/Dark-Knight-R...</td>\n",
       "      <td>275000000</td>\n",
       "      <td>7/20/2012</td>\n",
       "      <td>1084439099</td>\n",
       "      <td>The Dark Knight Rises</td>\n",
       "    </tr>\n",
       "  </tbody>\n",
       "</table>\n",
       "</div>"
      ],
      "text/plain": [
       "   Unnamed: 0                                movie_name  domestic_gross  \\\n",
       "0           0                                    Avatar       760507625   \n",
       "1           1      Star Wars Ep. VII: The Force Awakens       936662225   \n",
       "2           2  Pirates of the Caribbean: At World's End       309420425   \n",
       "3           3                                   Spectre       200074175   \n",
       "4           4                     The Dark Knight Rises       448139099   \n",
       "\n",
       "                                          movie_link  production_budget  \\\n",
       "0  http://www.the-numbers.com/movie/Avatar#tab=su...          425000000   \n",
       "1  http://www.the-numbers.com/movie/Star-Wars-Ep-...          306000000   \n",
       "2  http://www.the-numbers.com/movie/Pirates-of-th...          300000000   \n",
       "3  http://www.the-numbers.com/movie/Spectre#tab=s...          300000000   \n",
       "4  http://www.the-numbers.com/movie/Dark-Knight-R...          275000000   \n",
       "\n",
       "  release_date  worldwide_gross  \\\n",
       "0   12/18/2009       2783918982   \n",
       "1   12/18/2015       2058662225   \n",
       "2    5/24/2007        963420425   \n",
       "3    11/6/2015        879620923   \n",
       "4    7/20/2012       1084439099   \n",
       "\n",
       "                                         movie_title  \n",
       "0                                            Avatar   \n",
       "1  Star Wars: Episode VII - The Force Awakens    ...  \n",
       "2          Pirates of the Caribbean: At World's End   \n",
       "3                                           Spectre   \n",
       "4                             The Dark Knight Rises   "
      ]
     },
     "execution_count": 42,
     "metadata": {},
     "output_type": "execute_result"
    }
   ],
   "source": [
    "df_financials.head()"
   ]
  },
  {
   "cell_type": "code",
   "execution_count": 43,
   "metadata": {
    "collapsed": true
   },
   "outputs": [],
   "source": [
    "df_financials = df_financials[['movie_title','production_budget','worldwide_gross']]"
   ]
  },
  {
   "cell_type": "code",
   "execution_count": 44,
   "metadata": {
    "collapsed": false
   },
   "outputs": [
    {
     "data": {
      "text/plain": [
       "(4341, 3)"
      ]
     },
     "execution_count": 44,
     "metadata": {},
     "output_type": "execute_result"
    }
   ],
   "source": [
    "df_financials.shape"
   ]
  },
  {
   "cell_type": "code",
   "execution_count": 45,
   "metadata": {
    "collapsed": false
   },
   "outputs": [
    {
     "data": {
      "text/plain": [
       "(5043, 19)"
      ]
     },
     "execution_count": 45,
     "metadata": {},
     "output_type": "execute_result"
    }
   ],
   "source": [
    "movies.shape"
   ]
  },
  {
   "cell_type": "markdown",
   "metadata": {},
   "source": [
    "> A pesar de tener una diferencia de datos, es preferible perder datos en pro de tener datos de calidad"
   ]
  },
  {
   "cell_type": "markdown",
   "metadata": {},
   "source": [
    "### Concatenar  movie_title a movie_num"
   ]
  },
  {
   "cell_type": "code",
   "execution_count": 46,
   "metadata": {
    "collapsed": false
   },
   "outputs": [],
   "source": [
    "movies_num = pd.concat([movies_num, movies['movie_title']], axis=1)"
   ]
  },
  {
   "cell_type": "code",
   "execution_count": 47,
   "metadata": {
    "collapsed": false
   },
   "outputs": [
    {
     "data": {
      "text/html": [
       "<div>\n",
       "<table border=\"1\" class=\"dataframe\">\n",
       "  <thead>\n",
       "    <tr style=\"text-align: right;\">\n",
       "      <th></th>\n",
       "      <th>movie_title</th>\n",
       "      <th>production_budget</th>\n",
       "      <th>worldwide_gross</th>\n",
       "      <th>title_year</th>\n",
       "      <th>aspect_ratio</th>\n",
       "      <th>duration</th>\n",
       "      <th>duration.1</th>\n",
       "      <th>cast_total_facebook_likes</th>\n",
       "      <th>budget</th>\n",
       "      <th>imdb_score</th>\n",
       "      <th>gross</th>\n",
       "    </tr>\n",
       "  </thead>\n",
       "  <tbody>\n",
       "    <tr>\n",
       "      <th>0</th>\n",
       "      <td>Avatar</td>\n",
       "      <td>425000000</td>\n",
       "      <td>2783918982</td>\n",
       "      <td>2009.0</td>\n",
       "      <td>1.78</td>\n",
       "      <td>178.0</td>\n",
       "      <td>178.0</td>\n",
       "      <td>4834</td>\n",
       "      <td>237000000.0</td>\n",
       "      <td>7.9</td>\n",
       "      <td>760505847.0</td>\n",
       "    </tr>\n",
       "    <tr>\n",
       "      <th>1</th>\n",
       "      <td>Star Wars: Episode VII - The Force Awakens    ...</td>\n",
       "      <td>306000000</td>\n",
       "      <td>2058662225</td>\n",
       "      <td>NaN</td>\n",
       "      <td>NaN</td>\n",
       "      <td>NaN</td>\n",
       "      <td>NaN</td>\n",
       "      <td>143</td>\n",
       "      <td>NaN</td>\n",
       "      <td>7.1</td>\n",
       "      <td>NaN</td>\n",
       "    </tr>\n",
       "    <tr>\n",
       "      <th>2</th>\n",
       "      <td>Pirates of the Caribbean: At World's End</td>\n",
       "      <td>300000000</td>\n",
       "      <td>963420425</td>\n",
       "      <td>2007.0</td>\n",
       "      <td>2.35</td>\n",
       "      <td>169.0</td>\n",
       "      <td>169.0</td>\n",
       "      <td>48350</td>\n",
       "      <td>300000000.0</td>\n",
       "      <td>7.1</td>\n",
       "      <td>309404152.0</td>\n",
       "    </tr>\n",
       "    <tr>\n",
       "      <th>3</th>\n",
       "      <td>Spectre</td>\n",
       "      <td>300000000</td>\n",
       "      <td>879620923</td>\n",
       "      <td>2015.0</td>\n",
       "      <td>2.35</td>\n",
       "      <td>148.0</td>\n",
       "      <td>148.0</td>\n",
       "      <td>11700</td>\n",
       "      <td>245000000.0</td>\n",
       "      <td>6.8</td>\n",
       "      <td>200074175.0</td>\n",
       "    </tr>\n",
       "    <tr>\n",
       "      <th>4</th>\n",
       "      <td>The Dark Knight Rises</td>\n",
       "      <td>275000000</td>\n",
       "      <td>1084439099</td>\n",
       "      <td>2012.0</td>\n",
       "      <td>2.35</td>\n",
       "      <td>164.0</td>\n",
       "      <td>164.0</td>\n",
       "      <td>106759</td>\n",
       "      <td>250000000.0</td>\n",
       "      <td>8.5</td>\n",
       "      <td>448130642.0</td>\n",
       "    </tr>\n",
       "    <tr>\n",
       "      <th>5</th>\n",
       "      <td>The Lone Ranger</td>\n",
       "      <td>275000000</td>\n",
       "      <td>260002115</td>\n",
       "      <td>2013.0</td>\n",
       "      <td>2.35</td>\n",
       "      <td>150.0</td>\n",
       "      <td>150.0</td>\n",
       "      <td>45757</td>\n",
       "      <td>215000000.0</td>\n",
       "      <td>6.5</td>\n",
       "      <td>89289910.0</td>\n",
       "    </tr>\n",
       "    <tr>\n",
       "      <th>6</th>\n",
       "      <td>John Carter</td>\n",
       "      <td>275000000</td>\n",
       "      <td>282778100</td>\n",
       "      <td>2012.0</td>\n",
       "      <td>2.35</td>\n",
       "      <td>132.0</td>\n",
       "      <td>132.0</td>\n",
       "      <td>1873</td>\n",
       "      <td>263700000.0</td>\n",
       "      <td>6.6</td>\n",
       "      <td>73058679.0</td>\n",
       "    </tr>\n",
       "    <tr>\n",
       "      <th>7</th>\n",
       "      <td>Tangled</td>\n",
       "      <td>260000000</td>\n",
       "      <td>586581936</td>\n",
       "      <td>2010.0</td>\n",
       "      <td>1.85</td>\n",
       "      <td>100.0</td>\n",
       "      <td>100.0</td>\n",
       "      <td>2036</td>\n",
       "      <td>260000000.0</td>\n",
       "      <td>7.8</td>\n",
       "      <td>200807262.0</td>\n",
       "    </tr>\n",
       "    <tr>\n",
       "      <th>8</th>\n",
       "      <td>Spider-Man 3</td>\n",
       "      <td>258000000</td>\n",
       "      <td>890875303</td>\n",
       "      <td>2007.0</td>\n",
       "      <td>2.35</td>\n",
       "      <td>156.0</td>\n",
       "      <td>156.0</td>\n",
       "      <td>46055</td>\n",
       "      <td>258000000.0</td>\n",
       "      <td>6.2</td>\n",
       "      <td>336530303.0</td>\n",
       "    </tr>\n",
       "    <tr>\n",
       "      <th>9</th>\n",
       "      <td>Spider-Man 3</td>\n",
       "      <td>258000000</td>\n",
       "      <td>890875303</td>\n",
       "      <td>2007.0</td>\n",
       "      <td>2.35</td>\n",
       "      <td>156.0</td>\n",
       "      <td>156.0</td>\n",
       "      <td>46055</td>\n",
       "      <td>258000000.0</td>\n",
       "      <td>6.2</td>\n",
       "      <td>336530303.0</td>\n",
       "    </tr>\n",
       "    <tr>\n",
       "      <th>10</th>\n",
       "      <td>Avengers: Age of Ultron</td>\n",
       "      <td>250000000</td>\n",
       "      <td>1404705868</td>\n",
       "      <td>2015.0</td>\n",
       "      <td>2.35</td>\n",
       "      <td>141.0</td>\n",
       "      <td>141.0</td>\n",
       "      <td>92000</td>\n",
       "      <td>250000000.0</td>\n",
       "      <td>7.5</td>\n",
       "      <td>458991599.0</td>\n",
       "    </tr>\n",
       "    <tr>\n",
       "      <th>11</th>\n",
       "      <td>Captain America: Civil War</td>\n",
       "      <td>250000000</td>\n",
       "      <td>1150864745</td>\n",
       "      <td>2016.0</td>\n",
       "      <td>2.35</td>\n",
       "      <td>147.0</td>\n",
       "      <td>147.0</td>\n",
       "      <td>64798</td>\n",
       "      <td>250000000.0</td>\n",
       "      <td>8.2</td>\n",
       "      <td>407197282.0</td>\n",
       "    </tr>\n",
       "    <tr>\n",
       "      <th>12</th>\n",
       "      <td>Batman v Superman: Dawn of Justice</td>\n",
       "      <td>250000000</td>\n",
       "      <td>868160194</td>\n",
       "      <td>2016.0</td>\n",
       "      <td>2.35</td>\n",
       "      <td>183.0</td>\n",
       "      <td>183.0</td>\n",
       "      <td>24450</td>\n",
       "      <td>250000000.0</td>\n",
       "      <td>6.9</td>\n",
       "      <td>330249062.0</td>\n",
       "    </tr>\n",
       "    <tr>\n",
       "      <th>13</th>\n",
       "      <td>The Hobbit: An Unexpected Journey</td>\n",
       "      <td>250000000</td>\n",
       "      <td>1017003568</td>\n",
       "      <td>2012.0</td>\n",
       "      <td>2.35</td>\n",
       "      <td>182.0</td>\n",
       "      <td>182.0</td>\n",
       "      <td>9152</td>\n",
       "      <td>180000000.0</td>\n",
       "      <td>7.9</td>\n",
       "      <td>303001229.0</td>\n",
       "    </tr>\n",
       "    <tr>\n",
       "      <th>14</th>\n",
       "      <td>Harry Potter and the Half-Blood Prince</td>\n",
       "      <td>250000000</td>\n",
       "      <td>935083686</td>\n",
       "      <td>2009.0</td>\n",
       "      <td>2.35</td>\n",
       "      <td>153.0</td>\n",
       "      <td>153.0</td>\n",
       "      <td>58753</td>\n",
       "      <td>250000000.0</td>\n",
       "      <td>7.5</td>\n",
       "      <td>301956980.0</td>\n",
       "    </tr>\n",
       "    <tr>\n",
       "      <th>15</th>\n",
       "      <td>The Hobbit: The Desolation of Smaug</td>\n",
       "      <td>250000000</td>\n",
       "      <td>960366855</td>\n",
       "      <td>2013.0</td>\n",
       "      <td>2.35</td>\n",
       "      <td>186.0</td>\n",
       "      <td>186.0</td>\n",
       "      <td>9152</td>\n",
       "      <td>225000000.0</td>\n",
       "      <td>7.9</td>\n",
       "      <td>258355354.0</td>\n",
       "    </tr>\n",
       "    <tr>\n",
       "      <th>16</th>\n",
       "      <td>The Hobbit: The Battle of the Five Armies</td>\n",
       "      <td>250000000</td>\n",
       "      <td>955119788</td>\n",
       "      <td>2014.0</td>\n",
       "      <td>2.35</td>\n",
       "      <td>164.0</td>\n",
       "      <td>164.0</td>\n",
       "      <td>9152</td>\n",
       "      <td>250000000.0</td>\n",
       "      <td>7.5</td>\n",
       "      <td>255108370.0</td>\n",
       "    </tr>\n",
       "    <tr>\n",
       "      <th>17</th>\n",
       "      <td>Pirates of the Caribbean: On Stranger Tides</td>\n",
       "      <td>250000000</td>\n",
       "      <td>1045663875</td>\n",
       "      <td>2011.0</td>\n",
       "      <td>2.35</td>\n",
       "      <td>136.0</td>\n",
       "      <td>136.0</td>\n",
       "      <td>54083</td>\n",
       "      <td>250000000.0</td>\n",
       "      <td>6.7</td>\n",
       "      <td>241063875.0</td>\n",
       "    </tr>\n",
       "    <tr>\n",
       "      <th>18</th>\n",
       "      <td>Superman Returns</td>\n",
       "      <td>232000000</td>\n",
       "      <td>374085065</td>\n",
       "      <td>2006.0</td>\n",
       "      <td>2.35</td>\n",
       "      <td>169.0</td>\n",
       "      <td>169.0</td>\n",
       "      <td>29991</td>\n",
       "      <td>209000000.0</td>\n",
       "      <td>6.1</td>\n",
       "      <td>200069408.0</td>\n",
       "    </tr>\n",
       "    <tr>\n",
       "      <th>19</th>\n",
       "      <td>Quantum of Solace</td>\n",
       "      <td>230000000</td>\n",
       "      <td>591692078</td>\n",
       "      <td>2008.0</td>\n",
       "      <td>2.35</td>\n",
       "      <td>106.0</td>\n",
       "      <td>106.0</td>\n",
       "      <td>2023</td>\n",
       "      <td>200000000.0</td>\n",
       "      <td>6.7</td>\n",
       "      <td>168368427.0</td>\n",
       "    </tr>\n",
       "    <tr>\n",
       "      <th>20</th>\n",
       "      <td>Pirates of the Caribbean: Dead Man's Chest</td>\n",
       "      <td>225000000</td>\n",
       "      <td>1066215812</td>\n",
       "      <td>2006.0</td>\n",
       "      <td>2.35</td>\n",
       "      <td>151.0</td>\n",
       "      <td>151.0</td>\n",
       "      <td>48486</td>\n",
       "      <td>225000000.0</td>\n",
       "      <td>7.3</td>\n",
       "      <td>423032628.0</td>\n",
       "    </tr>\n",
       "    <tr>\n",
       "      <th>21</th>\n",
       "      <td>Man of Steel</td>\n",
       "      <td>225000000</td>\n",
       "      <td>667999518</td>\n",
       "      <td>2013.0</td>\n",
       "      <td>2.35</td>\n",
       "      <td>143.0</td>\n",
       "      <td>143.0</td>\n",
       "      <td>20495</td>\n",
       "      <td>225000000.0</td>\n",
       "      <td>7.2</td>\n",
       "      <td>291021565.0</td>\n",
       "    </tr>\n",
       "    <tr>\n",
       "      <th>22</th>\n",
       "      <td>The Chronicles of Narnia: Prince Caspian</td>\n",
       "      <td>225000000</td>\n",
       "      <td>417341288</td>\n",
       "      <td>2008.0</td>\n",
       "      <td>2.35</td>\n",
       "      <td>150.0</td>\n",
       "      <td>150.0</td>\n",
       "      <td>22697</td>\n",
       "      <td>225000000.0</td>\n",
       "      <td>6.6</td>\n",
       "      <td>141614023.0</td>\n",
       "    </tr>\n",
       "    <tr>\n",
       "      <th>23</th>\n",
       "      <td>The Amazing Spider-Man</td>\n",
       "      <td>220000000</td>\n",
       "      <td>757890267</td>\n",
       "      <td>2012.0</td>\n",
       "      <td>2.35</td>\n",
       "      <td>153.0</td>\n",
       "      <td>153.0</td>\n",
       "      <td>28489</td>\n",
       "      <td>230000000.0</td>\n",
       "      <td>7.0</td>\n",
       "      <td>262030663.0</td>\n",
       "    </tr>\n",
       "    <tr>\n",
       "      <th>24</th>\n",
       "      <td>Jurassic World</td>\n",
       "      <td>215000000</td>\n",
       "      <td>1670328025</td>\n",
       "      <td>2015.0</td>\n",
       "      <td>2.00</td>\n",
       "      <td>124.0</td>\n",
       "      <td>124.0</td>\n",
       "      <td>8458</td>\n",
       "      <td>150000000.0</td>\n",
       "      <td>7.0</td>\n",
       "      <td>652177271.0</td>\n",
       "    </tr>\n",
       "    <tr>\n",
       "      <th>25</th>\n",
       "      <td>Transformers: Revenge of the Fallen</td>\n",
       "      <td>210000000</td>\n",
       "      <td>836519699</td>\n",
       "      <td>2009.0</td>\n",
       "      <td>2.35</td>\n",
       "      <td>150.0</td>\n",
       "      <td>150.0</td>\n",
       "      <td>3218</td>\n",
       "      <td>200000000.0</td>\n",
       "      <td>6.0</td>\n",
       "      <td>402076689.0</td>\n",
       "    </tr>\n",
       "    <tr>\n",
       "      <th>26</th>\n",
       "      <td>Transformers: Age of Extinction</td>\n",
       "      <td>210000000</td>\n",
       "      <td>1104039076</td>\n",
       "      <td>2014.0</td>\n",
       "      <td>2.35</td>\n",
       "      <td>165.0</td>\n",
       "      <td>165.0</td>\n",
       "      <td>3988</td>\n",
       "      <td>210000000.0</td>\n",
       "      <td>5.7</td>\n",
       "      <td>245428137.0</td>\n",
       "    </tr>\n",
       "    <tr>\n",
       "      <th>27</th>\n",
       "      <td>X-Men: The Last Stand</td>\n",
       "      <td>210000000</td>\n",
       "      <td>459359555</td>\n",
       "      <td>2006.0</td>\n",
       "      <td>2.35</td>\n",
       "      <td>104.0</td>\n",
       "      <td>104.0</td>\n",
       "      <td>21714</td>\n",
       "      <td>210000000.0</td>\n",
       "      <td>6.8</td>\n",
       "      <td>234360014.0</td>\n",
       "    </tr>\n",
       "    <tr>\n",
       "      <th>28</th>\n",
       "      <td>Robin Hood</td>\n",
       "      <td>210000000</td>\n",
       "      <td>322241588</td>\n",
       "      <td>2010.0</td>\n",
       "      <td>2.35</td>\n",
       "      <td>156.0</td>\n",
       "      <td>156.0</td>\n",
       "      <td>3244</td>\n",
       "      <td>200000000.0</td>\n",
       "      <td>6.7</td>\n",
       "      <td>105219735.0</td>\n",
       "    </tr>\n",
       "    <tr>\n",
       "      <th>29</th>\n",
       "      <td>Battleship</td>\n",
       "      <td>209000000</td>\n",
       "      <td>305218228</td>\n",
       "      <td>2012.0</td>\n",
       "      <td>2.35</td>\n",
       "      <td>131.0</td>\n",
       "      <td>131.0</td>\n",
       "      <td>26679</td>\n",
       "      <td>209000000.0</td>\n",
       "      <td>5.9</td>\n",
       "      <td>65173160.0</td>\n",
       "    </tr>\n",
       "    <tr>\n",
       "      <th>...</th>\n",
       "      <td>...</td>\n",
       "      <td>...</td>\n",
       "      <td>...</td>\n",
       "      <td>...</td>\n",
       "      <td>...</td>\n",
       "      <td>...</td>\n",
       "      <td>...</td>\n",
       "      <td>...</td>\n",
       "      <td>...</td>\n",
       "      <td>...</td>\n",
       "      <td>...</td>\n",
       "    </tr>\n",
       "    <tr>\n",
       "      <th>4355</th>\n",
       "      <td>The Legend of God's Gun</td>\n",
       "      <td>30000</td>\n",
       "      <td>243768</td>\n",
       "      <td>2007.0</td>\n",
       "      <td>2.35</td>\n",
       "      <td>78.0</td>\n",
       "      <td>78.0</td>\n",
       "      <td>72</td>\n",
       "      <td>30000.0</td>\n",
       "      <td>4.1</td>\n",
       "      <td>243768.0</td>\n",
       "    </tr>\n",
       "    <tr>\n",
       "      <th>4356</th>\n",
       "      <td>Mutual Appreciation</td>\n",
       "      <td>30000</td>\n",
       "      <td>103509</td>\n",
       "      <td>2005.0</td>\n",
       "      <td>1.66</td>\n",
       "      <td>109.0</td>\n",
       "      <td>109.0</td>\n",
       "      <td>38</td>\n",
       "      <td>NaN</td>\n",
       "      <td>6.9</td>\n",
       "      <td>NaN</td>\n",
       "    </tr>\n",
       "    <tr>\n",
       "      <th>4357</th>\n",
       "      <td>Funny Ha Ha</td>\n",
       "      <td>30000</td>\n",
       "      <td>82698</td>\n",
       "      <td>2002.0</td>\n",
       "      <td>1.37</td>\n",
       "      <td>85.0</td>\n",
       "      <td>85.0</td>\n",
       "      <td>40</td>\n",
       "      <td>NaN</td>\n",
       "      <td>6.4</td>\n",
       "      <td>NaN</td>\n",
       "    </tr>\n",
       "    <tr>\n",
       "      <th>4358</th>\n",
       "      <td>Down Terrace</td>\n",
       "      <td>30000</td>\n",
       "      <td>9812</td>\n",
       "      <td>2009.0</td>\n",
       "      <td>NaN</td>\n",
       "      <td>93.0</td>\n",
       "      <td>93.0</td>\n",
       "      <td>365</td>\n",
       "      <td>NaN</td>\n",
       "      <td>6.5</td>\n",
       "      <td>9609.0</td>\n",
       "    </tr>\n",
       "    <tr>\n",
       "      <th>4359</th>\n",
       "      <td>Clerks</td>\n",
       "      <td>27000</td>\n",
       "      <td>3894240</td>\n",
       "      <td>1994.0</td>\n",
       "      <td>1.37</td>\n",
       "      <td>102.0</td>\n",
       "      <td>102.0</td>\n",
       "      <td>2103</td>\n",
       "      <td>230000.0</td>\n",
       "      <td>7.8</td>\n",
       "      <td>3151130.0</td>\n",
       "    </tr>\n",
       "    <tr>\n",
       "      <th>4360</th>\n",
       "      <td>Pink Narcissus</td>\n",
       "      <td>27000</td>\n",
       "      <td>8231</td>\n",
       "      <td>1971.0</td>\n",
       "      <td>1.37</td>\n",
       "      <td>65.0</td>\n",
       "      <td>65.0</td>\n",
       "      <td>0</td>\n",
       "      <td>27000.0</td>\n",
       "      <td>6.7</td>\n",
       "      <td>8231.0</td>\n",
       "    </tr>\n",
       "    <tr>\n",
       "      <th>4361</th>\n",
       "      <td>In the Company of Men</td>\n",
       "      <td>25000</td>\n",
       "      <td>2883661</td>\n",
       "      <td>1997.0</td>\n",
       "      <td>1.85</td>\n",
       "      <td>97.0</td>\n",
       "      <td>97.0</td>\n",
       "      <td>254</td>\n",
       "      <td>25000.0</td>\n",
       "      <td>7.3</td>\n",
       "      <td>2856622.0</td>\n",
       "    </tr>\n",
       "    <tr>\n",
       "      <th>4362</th>\n",
       "      <td>Manito</td>\n",
       "      <td>25000</td>\n",
       "      <td>0</td>\n",
       "      <td>2002.0</td>\n",
       "      <td>1.78</td>\n",
       "      <td>79.0</td>\n",
       "      <td>79.0</td>\n",
       "      <td>243</td>\n",
       "      <td>24000.0</td>\n",
       "      <td>7.0</td>\n",
       "      <td>NaN</td>\n",
       "    </tr>\n",
       "    <tr>\n",
       "      <th>4363</th>\n",
       "      <td>Dutch Kills</td>\n",
       "      <td>25000</td>\n",
       "      <td>0</td>\n",
       "      <td>2015.0</td>\n",
       "      <td>NaN</td>\n",
       "      <td>90.0</td>\n",
       "      <td>90.0</td>\n",
       "      <td>366</td>\n",
       "      <td>25000.0</td>\n",
       "      <td>4.8</td>\n",
       "      <td>NaN</td>\n",
       "    </tr>\n",
       "    <tr>\n",
       "      <th>4364</th>\n",
       "      <td>Slacker</td>\n",
       "      <td>23000</td>\n",
       "      <td>1227508</td>\n",
       "      <td>1991.0</td>\n",
       "      <td>1.37</td>\n",
       "      <td>100.0</td>\n",
       "      <td>100.0</td>\n",
       "      <td>5</td>\n",
       "      <td>23000.0</td>\n",
       "      <td>7.1</td>\n",
       "      <td>1227508.0</td>\n",
       "    </tr>\n",
       "    <tr>\n",
       "      <th>4365</th>\n",
       "      <td>Dry Spell</td>\n",
       "      <td>22000</td>\n",
       "      <td>0</td>\n",
       "      <td>2013.0</td>\n",
       "      <td>1.78</td>\n",
       "      <td>90.0</td>\n",
       "      <td>90.0</td>\n",
       "      <td>841</td>\n",
       "      <td>22000.0</td>\n",
       "      <td>3.3</td>\n",
       "      <td>NaN</td>\n",
       "    </tr>\n",
       "    <tr>\n",
       "      <th>4366</th>\n",
       "      <td>Flywheel</td>\n",
       "      <td>20000</td>\n",
       "      <td>0</td>\n",
       "      <td>2003.0</td>\n",
       "      <td>1.85</td>\n",
       "      <td>120.0</td>\n",
       "      <td>120.0</td>\n",
       "      <td>108</td>\n",
       "      <td>20000.0</td>\n",
       "      <td>6.9</td>\n",
       "      <td>NaN</td>\n",
       "    </tr>\n",
       "    <tr>\n",
       "      <th>4367</th>\n",
       "      <td>All Superheroes Must Die</td>\n",
       "      <td>20000</td>\n",
       "      <td>0</td>\n",
       "      <td>2011.0</td>\n",
       "      <td>2.35</td>\n",
       "      <td>78.0</td>\n",
       "      <td>78.0</td>\n",
       "      <td>674</td>\n",
       "      <td>20000.0</td>\n",
       "      <td>4.0</td>\n",
       "      <td>NaN</td>\n",
       "    </tr>\n",
       "    <tr>\n",
       "      <th>4368</th>\n",
       "      <td>The Ridges</td>\n",
       "      <td>17300</td>\n",
       "      <td>0</td>\n",
       "      <td>2011.0</td>\n",
       "      <td>NaN</td>\n",
       "      <td>143.0</td>\n",
       "      <td>143.0</td>\n",
       "      <td>770</td>\n",
       "      <td>17350.0</td>\n",
       "      <td>3.0</td>\n",
       "      <td>NaN</td>\n",
       "    </tr>\n",
       "    <tr>\n",
       "      <th>4369</th>\n",
       "      <td>The Puffy Chair</td>\n",
       "      <td>15000</td>\n",
       "      <td>195254</td>\n",
       "      <td>2005.0</td>\n",
       "      <td>NaN</td>\n",
       "      <td>85.0</td>\n",
       "      <td>85.0</td>\n",
       "      <td>1064</td>\n",
       "      <td>15000.0</td>\n",
       "      <td>6.6</td>\n",
       "      <td>192467.0</td>\n",
       "    </tr>\n",
       "    <tr>\n",
       "      <th>4370</th>\n",
       "      <td>Breaking Upwards</td>\n",
       "      <td>15000</td>\n",
       "      <td>115592</td>\n",
       "      <td>2009.0</td>\n",
       "      <td>2.35</td>\n",
       "      <td>88.0</td>\n",
       "      <td>88.0</td>\n",
       "      <td>1546</td>\n",
       "      <td>15000.0</td>\n",
       "      <td>6.2</td>\n",
       "      <td>76382.0</td>\n",
       "    </tr>\n",
       "    <tr>\n",
       "      <th>4371</th>\n",
       "      <td>Stories of Our Lives</td>\n",
       "      <td>15000</td>\n",
       "      <td>0</td>\n",
       "      <td>2014.0</td>\n",
       "      <td>NaN</td>\n",
       "      <td>60.0</td>\n",
       "      <td>60.0</td>\n",
       "      <td>170</td>\n",
       "      <td>15000.0</td>\n",
       "      <td>7.4</td>\n",
       "      <td>NaN</td>\n",
       "    </tr>\n",
       "    <tr>\n",
       "      <th>4372</th>\n",
       "      <td>Pink Flamingos</td>\n",
       "      <td>12000</td>\n",
       "      <td>413802</td>\n",
       "      <td>1972.0</td>\n",
       "      <td>1.37</td>\n",
       "      <td>108.0</td>\n",
       "      <td>108.0</td>\n",
       "      <td>760</td>\n",
       "      <td>10000.0</td>\n",
       "      <td>6.1</td>\n",
       "      <td>180483.0</td>\n",
       "    </tr>\n",
       "    <tr>\n",
       "      <th>4373</th>\n",
       "      <td>Clean</td>\n",
       "      <td>10000</td>\n",
       "      <td>138711</td>\n",
       "      <td>2004.0</td>\n",
       "      <td>2.35</td>\n",
       "      <td>110.0</td>\n",
       "      <td>110.0</td>\n",
       "      <td>776</td>\n",
       "      <td>4500.0</td>\n",
       "      <td>6.9</td>\n",
       "      <td>136007.0</td>\n",
       "    </tr>\n",
       "    <tr>\n",
       "      <th>4374</th>\n",
       "      <td>On the Downlow</td>\n",
       "      <td>10000</td>\n",
       "      <td>1987</td>\n",
       "      <td>2004.0</td>\n",
       "      <td>NaN</td>\n",
       "      <td>84.0</td>\n",
       "      <td>84.0</td>\n",
       "      <td>62</td>\n",
       "      <td>NaN</td>\n",
       "      <td>6.1</td>\n",
       "      <td>NaN</td>\n",
       "    </tr>\n",
       "    <tr>\n",
       "      <th>4375</th>\n",
       "      <td>Bang</td>\n",
       "      <td>10000</td>\n",
       "      <td>527</td>\n",
       "      <td>1995.0</td>\n",
       "      <td>NaN</td>\n",
       "      <td>98.0</td>\n",
       "      <td>98.0</td>\n",
       "      <td>1186</td>\n",
       "      <td>NaN</td>\n",
       "      <td>6.4</td>\n",
       "      <td>NaN</td>\n",
       "    </tr>\n",
       "    <tr>\n",
       "      <th>4376</th>\n",
       "      <td>Newlyweds</td>\n",
       "      <td>9000</td>\n",
       "      <td>4584</td>\n",
       "      <td>2011.0</td>\n",
       "      <td>NaN</td>\n",
       "      <td>95.0</td>\n",
       "      <td>95.0</td>\n",
       "      <td>690</td>\n",
       "      <td>9000.0</td>\n",
       "      <td>6.4</td>\n",
       "      <td>4584.0</td>\n",
       "    </tr>\n",
       "    <tr>\n",
       "      <th>4377</th>\n",
       "      <td>El Mariachi</td>\n",
       "      <td>7000</td>\n",
       "      <td>2041928</td>\n",
       "      <td>1992.0</td>\n",
       "      <td>1.37</td>\n",
       "      <td>81.0</td>\n",
       "      <td>81.0</td>\n",
       "      <td>147</td>\n",
       "      <td>7000.0</td>\n",
       "      <td>6.9</td>\n",
       "      <td>2040920.0</td>\n",
       "    </tr>\n",
       "    <tr>\n",
       "      <th>4378</th>\n",
       "      <td>Primer</td>\n",
       "      <td>7000</td>\n",
       "      <td>841926</td>\n",
       "      <td>2004.0</td>\n",
       "      <td>1.85</td>\n",
       "      <td>77.0</td>\n",
       "      <td>77.0</td>\n",
       "      <td>368</td>\n",
       "      <td>7000.0</td>\n",
       "      <td>7.0</td>\n",
       "      <td>424760.0</td>\n",
       "    </tr>\n",
       "    <tr>\n",
       "      <th>4379</th>\n",
       "      <td>Cavite</td>\n",
       "      <td>7000</td>\n",
       "      <td>71644</td>\n",
       "      <td>2005.0</td>\n",
       "      <td>NaN</td>\n",
       "      <td>80.0</td>\n",
       "      <td>80.0</td>\n",
       "      <td>0</td>\n",
       "      <td>7000.0</td>\n",
       "      <td>6.3</td>\n",
       "      <td>70071.0</td>\n",
       "    </tr>\n",
       "    <tr>\n",
       "      <th>4380</th>\n",
       "      <td>The Mongol King</td>\n",
       "      <td>7000</td>\n",
       "      <td>900</td>\n",
       "      <td>2005.0</td>\n",
       "      <td>NaN</td>\n",
       "      <td>84.0</td>\n",
       "      <td>84.0</td>\n",
       "      <td>93</td>\n",
       "      <td>3250.0</td>\n",
       "      <td>7.8</td>\n",
       "      <td>NaN</td>\n",
       "    </tr>\n",
       "    <tr>\n",
       "      <th>4381</th>\n",
       "      <td>Signed Sealed Delivered</td>\n",
       "      <td>5000</td>\n",
       "      <td>0</td>\n",
       "      <td>2013.0</td>\n",
       "      <td>NaN</td>\n",
       "      <td>87.0</td>\n",
       "      <td>87.0</td>\n",
       "      <td>2283</td>\n",
       "      <td>NaN</td>\n",
       "      <td>7.7</td>\n",
       "      <td>NaN</td>\n",
       "    </tr>\n",
       "    <tr>\n",
       "      <th>4382</th>\n",
       "      <td>Shanghai Calling</td>\n",
       "      <td>3967</td>\n",
       "      <td>10443</td>\n",
       "      <td>2012.0</td>\n",
       "      <td>2.35</td>\n",
       "      <td>100.0</td>\n",
       "      <td>100.0</td>\n",
       "      <td>2386</td>\n",
       "      <td>NaN</td>\n",
       "      <td>6.3</td>\n",
       "      <td>10443.0</td>\n",
       "    </tr>\n",
       "    <tr>\n",
       "      <th>4383</th>\n",
       "      <td>A Plague So Pleasant</td>\n",
       "      <td>1400</td>\n",
       "      <td>0</td>\n",
       "      <td>2013.0</td>\n",
       "      <td>NaN</td>\n",
       "      <td>76.0</td>\n",
       "      <td>76.0</td>\n",
       "      <td>0</td>\n",
       "      <td>1400.0</td>\n",
       "      <td>6.3</td>\n",
       "      <td>NaN</td>\n",
       "    </tr>\n",
       "    <tr>\n",
       "      <th>4384</th>\n",
       "      <td>My Date with Drew</td>\n",
       "      <td>1100</td>\n",
       "      <td>181041</td>\n",
       "      <td>2004.0</td>\n",
       "      <td>1.85</td>\n",
       "      <td>90.0</td>\n",
       "      <td>90.0</td>\n",
       "      <td>163</td>\n",
       "      <td>1100.0</td>\n",
       "      <td>6.6</td>\n",
       "      <td>85222.0</td>\n",
       "    </tr>\n",
       "  </tbody>\n",
       "</table>\n",
       "<p>4385 rows × 11 columns</p>\n",
       "</div>"
      ],
      "text/plain": [
       "                                            movie_title  production_budget  \\\n",
       "0                                               Avatar           425000000   \n",
       "1     Star Wars: Episode VII - The Force Awakens    ...          306000000   \n",
       "2             Pirates of the Caribbean: At World's End           300000000   \n",
       "3                                              Spectre           300000000   \n",
       "4                                The Dark Knight Rises           275000000   \n",
       "5                                      The Lone Ranger           275000000   \n",
       "6                                          John Carter           275000000   \n",
       "7                                              Tangled           260000000   \n",
       "8                                         Spider-Man 3           258000000   \n",
       "9                                         Spider-Man 3           258000000   \n",
       "10                             Avengers: Age of Ultron           250000000   \n",
       "11                          Captain America: Civil War           250000000   \n",
       "12                  Batman v Superman: Dawn of Justice           250000000   \n",
       "13                   The Hobbit: An Unexpected Journey           250000000   \n",
       "14              Harry Potter and the Half-Blood Prince           250000000   \n",
       "15                 The Hobbit: The Desolation of Smaug           250000000   \n",
       "16           The Hobbit: The Battle of the Five Armies           250000000   \n",
       "17         Pirates of the Caribbean: On Stranger Tides           250000000   \n",
       "18                                    Superman Returns           232000000   \n",
       "19                                   Quantum of Solace           230000000   \n",
       "20          Pirates of the Caribbean: Dead Man's Chest           225000000   \n",
       "21                                        Man of Steel           225000000   \n",
       "22            The Chronicles of Narnia: Prince Caspian           225000000   \n",
       "23                              The Amazing Spider-Man           220000000   \n",
       "24                                      Jurassic World           215000000   \n",
       "25                 Transformers: Revenge of the Fallen           210000000   \n",
       "26                     Transformers: Age of Extinction           210000000   \n",
       "27                               X-Men: The Last Stand           210000000   \n",
       "28                                          Robin Hood           210000000   \n",
       "29                                          Battleship           209000000   \n",
       "...                                                 ...                ...   \n",
       "4355                           The Legend of God's Gun               30000   \n",
       "4356                               Mutual Appreciation               30000   \n",
       "4357                                       Funny Ha Ha               30000   \n",
       "4358                                      Down Terrace               30000   \n",
       "4359                                            Clerks               27000   \n",
       "4360                                    Pink Narcissus               27000   \n",
       "4361                             In the Company of Men               25000   \n",
       "4362                                            Manito               25000   \n",
       "4363                                       Dutch Kills               25000   \n",
       "4364                                           Slacker               23000   \n",
       "4365                                         Dry Spell               22000   \n",
       "4366                                          Flywheel               20000   \n",
       "4367                          All Superheroes Must Die               20000   \n",
       "4368                                        The Ridges               17300   \n",
       "4369                                   The Puffy Chair               15000   \n",
       "4370                                  Breaking Upwards               15000   \n",
       "4371                              Stories of Our Lives               15000   \n",
       "4372                                    Pink Flamingos               12000   \n",
       "4373                                             Clean               10000   \n",
       "4374                                    On the Downlow               10000   \n",
       "4375                                              Bang               10000   \n",
       "4376                                         Newlyweds                9000   \n",
       "4377                                       El Mariachi                7000   \n",
       "4378                                            Primer                7000   \n",
       "4379                                            Cavite                7000   \n",
       "4380                                   The Mongol King                7000   \n",
       "4381                           Signed Sealed Delivered                5000   \n",
       "4382                                  Shanghai Calling                3967   \n",
       "4383                              A Plague So Pleasant                1400   \n",
       "4384                                 My Date with Drew                1100   \n",
       "\n",
       "      worldwide_gross  title_year  aspect_ratio  duration  duration.1  \\\n",
       "0          2783918982      2009.0          1.78     178.0       178.0   \n",
       "1          2058662225         NaN           NaN       NaN         NaN   \n",
       "2           963420425      2007.0          2.35     169.0       169.0   \n",
       "3           879620923      2015.0          2.35     148.0       148.0   \n",
       "4          1084439099      2012.0          2.35     164.0       164.0   \n",
       "5           260002115      2013.0          2.35     150.0       150.0   \n",
       "6           282778100      2012.0          2.35     132.0       132.0   \n",
       "7           586581936      2010.0          1.85     100.0       100.0   \n",
       "8           890875303      2007.0          2.35     156.0       156.0   \n",
       "9           890875303      2007.0          2.35     156.0       156.0   \n",
       "10         1404705868      2015.0          2.35     141.0       141.0   \n",
       "11         1150864745      2016.0          2.35     147.0       147.0   \n",
       "12          868160194      2016.0          2.35     183.0       183.0   \n",
       "13         1017003568      2012.0          2.35     182.0       182.0   \n",
       "14          935083686      2009.0          2.35     153.0       153.0   \n",
       "15          960366855      2013.0          2.35     186.0       186.0   \n",
       "16          955119788      2014.0          2.35     164.0       164.0   \n",
       "17         1045663875      2011.0          2.35     136.0       136.0   \n",
       "18          374085065      2006.0          2.35     169.0       169.0   \n",
       "19          591692078      2008.0          2.35     106.0       106.0   \n",
       "20         1066215812      2006.0          2.35     151.0       151.0   \n",
       "21          667999518      2013.0          2.35     143.0       143.0   \n",
       "22          417341288      2008.0          2.35     150.0       150.0   \n",
       "23          757890267      2012.0          2.35     153.0       153.0   \n",
       "24         1670328025      2015.0          2.00     124.0       124.0   \n",
       "25          836519699      2009.0          2.35     150.0       150.0   \n",
       "26         1104039076      2014.0          2.35     165.0       165.0   \n",
       "27          459359555      2006.0          2.35     104.0       104.0   \n",
       "28          322241588      2010.0          2.35     156.0       156.0   \n",
       "29          305218228      2012.0          2.35     131.0       131.0   \n",
       "...               ...         ...           ...       ...         ...   \n",
       "4355           243768      2007.0          2.35      78.0        78.0   \n",
       "4356           103509      2005.0          1.66     109.0       109.0   \n",
       "4357            82698      2002.0          1.37      85.0        85.0   \n",
       "4358             9812      2009.0           NaN      93.0        93.0   \n",
       "4359          3894240      1994.0          1.37     102.0       102.0   \n",
       "4360             8231      1971.0          1.37      65.0        65.0   \n",
       "4361          2883661      1997.0          1.85      97.0        97.0   \n",
       "4362                0      2002.0          1.78      79.0        79.0   \n",
       "4363                0      2015.0           NaN      90.0        90.0   \n",
       "4364          1227508      1991.0          1.37     100.0       100.0   \n",
       "4365                0      2013.0          1.78      90.0        90.0   \n",
       "4366                0      2003.0          1.85     120.0       120.0   \n",
       "4367                0      2011.0          2.35      78.0        78.0   \n",
       "4368                0      2011.0           NaN     143.0       143.0   \n",
       "4369           195254      2005.0           NaN      85.0        85.0   \n",
       "4370           115592      2009.0          2.35      88.0        88.0   \n",
       "4371                0      2014.0           NaN      60.0        60.0   \n",
       "4372           413802      1972.0          1.37     108.0       108.0   \n",
       "4373           138711      2004.0          2.35     110.0       110.0   \n",
       "4374             1987      2004.0           NaN      84.0        84.0   \n",
       "4375              527      1995.0           NaN      98.0        98.0   \n",
       "4376             4584      2011.0           NaN      95.0        95.0   \n",
       "4377          2041928      1992.0          1.37      81.0        81.0   \n",
       "4378           841926      2004.0          1.85      77.0        77.0   \n",
       "4379            71644      2005.0           NaN      80.0        80.0   \n",
       "4380              900      2005.0           NaN      84.0        84.0   \n",
       "4381                0      2013.0           NaN      87.0        87.0   \n",
       "4382            10443      2012.0          2.35     100.0       100.0   \n",
       "4383                0      2013.0           NaN      76.0        76.0   \n",
       "4384           181041      2004.0          1.85      90.0        90.0   \n",
       "\n",
       "      cast_total_facebook_likes       budget  imdb_score        gross  \n",
       "0                          4834  237000000.0         7.9  760505847.0  \n",
       "1                           143          NaN         7.1          NaN  \n",
       "2                         48350  300000000.0         7.1  309404152.0  \n",
       "3                         11700  245000000.0         6.8  200074175.0  \n",
       "4                        106759  250000000.0         8.5  448130642.0  \n",
       "5                         45757  215000000.0         6.5   89289910.0  \n",
       "6                          1873  263700000.0         6.6   73058679.0  \n",
       "7                          2036  260000000.0         7.8  200807262.0  \n",
       "8                         46055  258000000.0         6.2  336530303.0  \n",
       "9                         46055  258000000.0         6.2  336530303.0  \n",
       "10                        92000  250000000.0         7.5  458991599.0  \n",
       "11                        64798  250000000.0         8.2  407197282.0  \n",
       "12                        24450  250000000.0         6.9  330249062.0  \n",
       "13                         9152  180000000.0         7.9  303001229.0  \n",
       "14                        58753  250000000.0         7.5  301956980.0  \n",
       "15                         9152  225000000.0         7.9  258355354.0  \n",
       "16                         9152  250000000.0         7.5  255108370.0  \n",
       "17                        54083  250000000.0         6.7  241063875.0  \n",
       "18                        29991  209000000.0         6.1  200069408.0  \n",
       "19                         2023  200000000.0         6.7  168368427.0  \n",
       "20                        48486  225000000.0         7.3  423032628.0  \n",
       "21                        20495  225000000.0         7.2  291021565.0  \n",
       "22                        22697  225000000.0         6.6  141614023.0  \n",
       "23                        28489  230000000.0         7.0  262030663.0  \n",
       "24                         8458  150000000.0         7.0  652177271.0  \n",
       "25                         3218  200000000.0         6.0  402076689.0  \n",
       "26                         3988  210000000.0         5.7  245428137.0  \n",
       "27                        21714  210000000.0         6.8  234360014.0  \n",
       "28                         3244  200000000.0         6.7  105219735.0  \n",
       "29                        26679  209000000.0         5.9   65173160.0  \n",
       "...                         ...          ...         ...          ...  \n",
       "4355                         72      30000.0         4.1     243768.0  \n",
       "4356                         38          NaN         6.9          NaN  \n",
       "4357                         40          NaN         6.4          NaN  \n",
       "4358                        365          NaN         6.5       9609.0  \n",
       "4359                       2103     230000.0         7.8    3151130.0  \n",
       "4360                          0      27000.0         6.7       8231.0  \n",
       "4361                        254      25000.0         7.3    2856622.0  \n",
       "4362                        243      24000.0         7.0          NaN  \n",
       "4363                        366      25000.0         4.8          NaN  \n",
       "4364                          5      23000.0         7.1    1227508.0  \n",
       "4365                        841      22000.0         3.3          NaN  \n",
       "4366                        108      20000.0         6.9          NaN  \n",
       "4367                        674      20000.0         4.0          NaN  \n",
       "4368                        770      17350.0         3.0          NaN  \n",
       "4369                       1064      15000.0         6.6     192467.0  \n",
       "4370                       1546      15000.0         6.2      76382.0  \n",
       "4371                        170      15000.0         7.4          NaN  \n",
       "4372                        760      10000.0         6.1     180483.0  \n",
       "4373                        776       4500.0         6.9     136007.0  \n",
       "4374                         62          NaN         6.1          NaN  \n",
       "4375                       1186          NaN         6.4          NaN  \n",
       "4376                        690       9000.0         6.4       4584.0  \n",
       "4377                        147       7000.0         6.9    2040920.0  \n",
       "4378                        368       7000.0         7.0     424760.0  \n",
       "4379                          0       7000.0         6.3      70071.0  \n",
       "4380                         93       3250.0         7.8          NaN  \n",
       "4381                       2283          NaN         7.7          NaN  \n",
       "4382                       2386          NaN         6.3      10443.0  \n",
       "4383                          0       1400.0         6.3          NaN  \n",
       "4384                        163       1100.0         6.6      85222.0  \n",
       "\n",
       "[4385 rows x 11 columns]"
      ]
     },
     "execution_count": 47,
     "metadata": {},
     "output_type": "execute_result"
    }
   ],
   "source": [
    "pd.merge(df_financials, movies_num, on='movie_title', how='left')"
   ]
  },
  {
   "cell_type": "code",
   "execution_count": 48,
   "metadata": {
    "collapsed": false
   },
   "outputs": [],
   "source": [
    "# Unir el movies_num con financials\n",
    "movies_v2 = pd.merge(df_financials, movies_num, on='movie_title', how='left')"
   ]
  },
  {
   "cell_type": "code",
   "execution_count": 49,
   "metadata": {
    "collapsed": false
   },
   "outputs": [
    {
     "data": {
      "text/plain": [
       "(4385, 11)"
      ]
     },
     "execution_count": 49,
     "metadata": {},
     "output_type": "execute_result"
    }
   ],
   "source": [
    "movies_v2.shape"
   ]
  },
  {
   "cell_type": "markdown",
   "metadata": {},
   "source": [
    "# Solucionar el problema de los datos faltantes (nulos o NaN)."
   ]
  },
  {
   "cell_type": "markdown",
   "metadata": {},
   "source": [
    ">Los datos faltantes generan problemas con muchos algoritmos de ML. Es por esto que existen distintas estrategias para lidiar con ellos."
   ]
  },
  {
   "cell_type": "code",
   "execution_count": 50,
   "metadata": {
    "collapsed": false
   },
   "outputs": [
    {
     "name": "stdout",
     "output_type": "stream",
     "text": [
      "Help on function value_counts in module pandas.core.base:\n",
      "\n",
      "value_counts(self, normalize=False, sort=True, ascending=False, bins=None, dropna=True)\n",
      "    Returns object containing counts of unique values.\n",
      "    \n",
      "    The resulting object will be in descending order so that the\n",
      "    first element is the most frequently-occurring element.\n",
      "    Excludes NA values by default.\n",
      "    \n",
      "    Parameters\n",
      "    ----------\n",
      "    normalize : boolean, default False\n",
      "        If True then the object returned will contain the relative\n",
      "        frequencies of the unique values.\n",
      "    sort : boolean, default True\n",
      "        Sort by values\n",
      "    ascending : boolean, default False\n",
      "        Sort in ascending order\n",
      "    bins : integer, optional\n",
      "        Rather than count values, group them into half-open bins,\n",
      "        a convenience for pd.cut, only works with numeric data\n",
      "    dropna : boolean, default True\n",
      "        Don't include counts of NaN.\n",
      "    \n",
      "    Returns\n",
      "    -------\n",
      "    counts : Series\n",
      "\n"
     ]
    }
   ],
   "source": [
    "help(pd.Series.value_counts)"
   ]
  },
  {
   "cell_type": "code",
   "execution_count": 51,
   "metadata": {
    "collapsed": false
   },
   "outputs": [
    {
     "data": {
      "text/html": [
       "<div>\n",
       "<table border=\"1\" class=\"dataframe\">\n",
       "  <thead>\n",
       "    <tr style=\"text-align: right;\">\n",
       "      <th></th>\n",
       "      <th>movie_title</th>\n",
       "      <th>production_budget</th>\n",
       "      <th>worldwide_gross</th>\n",
       "      <th>title_year</th>\n",
       "      <th>aspect_ratio</th>\n",
       "      <th>duration</th>\n",
       "      <th>duration.1</th>\n",
       "      <th>cast_total_facebook_likes</th>\n",
       "      <th>budget</th>\n",
       "      <th>imdb_score</th>\n",
       "      <th>gross</th>\n",
       "    </tr>\n",
       "  </thead>\n",
       "  <tbody>\n",
       "    <tr>\n",
       "      <th>False</th>\n",
       "      <td>NaN</td>\n",
       "      <td>NaN</td>\n",
       "      <td>NaN</td>\n",
       "      <td>27</td>\n",
       "      <td>274</td>\n",
       "      <td>13</td>\n",
       "      <td>13</td>\n",
       "      <td>NaN</td>\n",
       "      <td>335</td>\n",
       "      <td>NaN</td>\n",
       "      <td>671</td>\n",
       "    </tr>\n",
       "    <tr>\n",
       "      <th>True</th>\n",
       "      <td>4385.0</td>\n",
       "      <td>4385.0</td>\n",
       "      <td>4385.0</td>\n",
       "      <td>4358</td>\n",
       "      <td>4111</td>\n",
       "      <td>4372</td>\n",
       "      <td>4372</td>\n",
       "      <td>4385.0</td>\n",
       "      <td>4050</td>\n",
       "      <td>4385.0</td>\n",
       "      <td>3714</td>\n",
       "    </tr>\n",
       "  </tbody>\n",
       "</table>\n",
       "</div>"
      ],
      "text/plain": [
       "       movie_title  production_budget  worldwide_gross  title_year  \\\n",
       "False          NaN                NaN              NaN          27   \n",
       "True        4385.0             4385.0           4385.0        4358   \n",
       "\n",
       "       aspect_ratio  duration  duration.1  cast_total_facebook_likes  budget  \\\n",
       "False           274        13          13                        NaN     335   \n",
       "True           4111      4372        4372                     4385.0    4050   \n",
       "\n",
       "       imdb_score  gross  \n",
       "False         NaN    671  \n",
       "True       4385.0   3714  "
      ]
     },
     "execution_count": 51,
     "metadata": {},
     "output_type": "execute_result"
    }
   ],
   "source": [
    "#Contar Datos faltantes por columna\n",
    "movies_v2.notnull().apply(pd.Series.value_counts)"
   ]
  },
  {
   "cell_type": "code",
   "execution_count": 52,
   "metadata": {
    "collapsed": false
   },
   "outputs": [
    {
     "data": {
      "text/html": [
       "<div>\n",
       "<table border=\"1\" class=\"dataframe\">\n",
       "  <thead>\n",
       "    <tr style=\"text-align: right;\">\n",
       "      <th></th>\n",
       "      <th>movie_title</th>\n",
       "      <th>production_budget</th>\n",
       "      <th>worldwide_gross</th>\n",
       "      <th>title_year</th>\n",
       "      <th>aspect_ratio</th>\n",
       "      <th>duration</th>\n",
       "      <th>duration.1</th>\n",
       "      <th>cast_total_facebook_likes</th>\n",
       "      <th>budget</th>\n",
       "      <th>imdb_score</th>\n",
       "      <th>gross</th>\n",
       "    </tr>\n",
       "  </thead>\n",
       "  <tbody>\n",
       "    <tr>\n",
       "      <th>False</th>\n",
       "      <td>NaN</td>\n",
       "      <td>NaN</td>\n",
       "      <td>281</td>\n",
       "      <td>NaN</td>\n",
       "      <td>NaN</td>\n",
       "      <td>NaN</td>\n",
       "      <td>NaN</td>\n",
       "      <td>27</td>\n",
       "      <td>NaN</td>\n",
       "      <td>NaN</td>\n",
       "      <td>NaN</td>\n",
       "    </tr>\n",
       "    <tr>\n",
       "      <th>True</th>\n",
       "      <td>4385.0</td>\n",
       "      <td>4385.0</td>\n",
       "      <td>4104</td>\n",
       "      <td>4385.0</td>\n",
       "      <td>4385.0</td>\n",
       "      <td>4385.0</td>\n",
       "      <td>4385.0</td>\n",
       "      <td>4358</td>\n",
       "      <td>4385.0</td>\n",
       "      <td>4385.0</td>\n",
       "      <td>4385.0</td>\n",
       "    </tr>\n",
       "  </tbody>\n",
       "</table>\n",
       "</div>"
      ],
      "text/plain": [
       "       movie_title  production_budget  worldwide_gross  title_year  \\\n",
       "False          NaN                NaN              281         NaN   \n",
       "True        4385.0             4385.0             4104      4385.0   \n",
       "\n",
       "       aspect_ratio  duration  duration.1  cast_total_facebook_likes  budget  \\\n",
       "False           NaN       NaN         NaN                         27     NaN   \n",
       "True         4385.0    4385.0      4385.0                       4358  4385.0   \n",
       "\n",
       "       imdb_score   gross  \n",
       "False         NaN     NaN  \n",
       "True       4385.0  4385.0  "
      ]
     },
     "execution_count": 52,
     "metadata": {},
     "output_type": "execute_result"
    }
   ],
   "source": [
    "#Contar columnas diferentes a 0\n",
    "(movies_v2 != 0).apply(pd.Series.value_counts)"
   ]
  },
  {
   "cell_type": "code",
   "execution_count": 53,
   "metadata": {
    "collapsed": false
   },
   "outputs": [],
   "source": [
    "available = ((movies_v2 !=0) & (movies_v2.notnull()))"
   ]
  },
  {
   "cell_type": "code",
   "execution_count": 54,
   "metadata": {
    "collapsed": false
   },
   "outputs": [
    {
     "data": {
      "text/plain": [
       "True     3408\n",
       "False     977\n",
       "dtype: int64"
      ]
     },
     "execution_count": 54,
     "metadata": {},
     "output_type": "execute_result"
    }
   ],
   "source": [
    "available.all(axis=1).value_counts()"
   ]
  },
  {
   "cell_type": "markdown",
   "metadata": {},
   "source": [
    "> Si se decide limpiar todos los datos nulos y falsos se pierden muchos datos, por ende se eliminaran solos los mas importantes, los relacionados con la variable objetivo 'worldwide_gross' siendo los mas influyentes en la predicción"
   ]
  },
  {
   "cell_type": "code",
   "execution_count": 55,
   "metadata": {
    "collapsed": true
   },
   "outputs": [],
   "source": [
    "mask = available['worldwide_gross']"
   ]
  },
  {
   "cell_type": "code",
   "execution_count": 56,
   "metadata": {
    "collapsed": true
   },
   "outputs": [],
   "source": [
    "movies_v2 = movies_v2[mask]"
   ]
  },
  {
   "cell_type": "code",
   "execution_count": 57,
   "metadata": {
    "collapsed": false
   },
   "outputs": [
    {
     "data": {
      "text/plain": [
       "True    4104\n",
       "Name: worldwide_gross, dtype: int64"
      ]
     },
     "execution_count": 57,
     "metadata": {},
     "output_type": "execute_result"
    }
   ],
   "source": [
    "((movies_v2 != 0) & (movies_v2.notnull())).worldwide_gross.value_counts()"
   ]
  },
  {
   "cell_type": "markdown",
   "metadata": {},
   "source": [
    "> En el caso de las features que no son la variable objetivo una mejor solución para lidiar con los datos faltantes es **remplazar estos datos por otros que sean manejables** y no afecten la calidad de las predicciones. La estrategia más comun es utilizar la media de todos los ejemplos para la feature dada."
   ]
  },
  {
   "cell_type": "code",
   "execution_count": 58,
   "metadata": {
    "collapsed": false
   },
   "outputs": [],
   "source": [
    "# axis 1, columna\n",
    "movies_v2 = movies_v2.drop('movie_title',axis=1)"
   ]
  },
  {
   "cell_type": "code",
   "execution_count": 59,
   "metadata": {
    "collapsed": true
   },
   "outputs": [],
   "source": [
    "movies_v2 = movies_v2.drop('duration.1',axis=1)"
   ]
  },
  {
   "cell_type": "code",
   "execution_count": 60,
   "metadata": {
    "collapsed": true
   },
   "outputs": [],
   "source": [
    "movies_v2 = movies_v2.drop('gross', axis=1)"
   ]
  },
  {
   "cell_type": "code",
   "execution_count": 61,
   "metadata": {
    "collapsed": false
   },
   "outputs": [
    {
     "data": {
      "text/html": [
       "<div>\n",
       "<table border=\"1\" class=\"dataframe\">\n",
       "  <thead>\n",
       "    <tr style=\"text-align: right;\">\n",
       "      <th></th>\n",
       "      <th>production_budget</th>\n",
       "      <th>worldwide_gross</th>\n",
       "      <th>title_year</th>\n",
       "      <th>aspect_ratio</th>\n",
       "      <th>duration</th>\n",
       "      <th>cast_total_facebook_likes</th>\n",
       "      <th>budget</th>\n",
       "      <th>imdb_score</th>\n",
       "    </tr>\n",
       "  </thead>\n",
       "  <tbody>\n",
       "    <tr>\n",
       "      <th>0</th>\n",
       "      <td>425000000</td>\n",
       "      <td>2783918982</td>\n",
       "      <td>2009.0</td>\n",
       "      <td>1.78</td>\n",
       "      <td>178.0</td>\n",
       "      <td>4834</td>\n",
       "      <td>237000000.0</td>\n",
       "      <td>7.9</td>\n",
       "    </tr>\n",
       "    <tr>\n",
       "      <th>1</th>\n",
       "      <td>306000000</td>\n",
       "      <td>2058662225</td>\n",
       "      <td>NaN</td>\n",
       "      <td>NaN</td>\n",
       "      <td>NaN</td>\n",
       "      <td>143</td>\n",
       "      <td>NaN</td>\n",
       "      <td>7.1</td>\n",
       "    </tr>\n",
       "    <tr>\n",
       "      <th>2</th>\n",
       "      <td>300000000</td>\n",
       "      <td>963420425</td>\n",
       "      <td>2007.0</td>\n",
       "      <td>2.35</td>\n",
       "      <td>169.0</td>\n",
       "      <td>48350</td>\n",
       "      <td>300000000.0</td>\n",
       "      <td>7.1</td>\n",
       "    </tr>\n",
       "    <tr>\n",
       "      <th>3</th>\n",
       "      <td>300000000</td>\n",
       "      <td>879620923</td>\n",
       "      <td>2015.0</td>\n",
       "      <td>2.35</td>\n",
       "      <td>148.0</td>\n",
       "      <td>11700</td>\n",
       "      <td>245000000.0</td>\n",
       "      <td>6.8</td>\n",
       "    </tr>\n",
       "    <tr>\n",
       "      <th>4</th>\n",
       "      <td>275000000</td>\n",
       "      <td>1084439099</td>\n",
       "      <td>2012.0</td>\n",
       "      <td>2.35</td>\n",
       "      <td>164.0</td>\n",
       "      <td>106759</td>\n",
       "      <td>250000000.0</td>\n",
       "      <td>8.5</td>\n",
       "    </tr>\n",
       "  </tbody>\n",
       "</table>\n",
       "</div>"
      ],
      "text/plain": [
       "   production_budget  worldwide_gross  title_year  aspect_ratio  duration  \\\n",
       "0          425000000       2783918982      2009.0          1.78     178.0   \n",
       "1          306000000       2058662225         NaN           NaN       NaN   \n",
       "2          300000000        963420425      2007.0          2.35     169.0   \n",
       "3          300000000        879620923      2015.0          2.35     148.0   \n",
       "4          275000000       1084439099      2012.0          2.35     164.0   \n",
       "\n",
       "   cast_total_facebook_likes       budget  imdb_score  \n",
       "0                       4834  237000000.0         7.9  \n",
       "1                        143          NaN         7.1  \n",
       "2                      48350  300000000.0         7.1  \n",
       "3                      11700  245000000.0         6.8  \n",
       "4                     106759  250000000.0         8.5  "
      ]
     },
     "execution_count": 61,
     "metadata": {},
     "output_type": "execute_result"
    }
   ],
   "source": [
    "movies_v2.head()"
   ]
  },
  {
   "cell_type": "markdown",
   "metadata": {},
   "source": [
    "#### Reemplazar Nulos con la media de las columnas"
   ]
  },
  {
   "cell_type": "code",
   "execution_count": 62,
   "metadata": {
    "collapsed": true
   },
   "outputs": [],
   "source": [
    "from sklearn.preprocessing import Imputer\n",
    "imputer = Imputer(missing_values=np.nan, strategy='mean')"
   ]
  },
  {
   "cell_type": "code",
   "execution_count": 63,
   "metadata": {
    "collapsed": false
   },
   "outputs": [
    {
     "data": {
      "text/html": [
       "<div>\n",
       "<table border=\"1\" class=\"dataframe\">\n",
       "  <thead>\n",
       "    <tr style=\"text-align: right;\">\n",
       "      <th></th>\n",
       "      <th>production_budget</th>\n",
       "      <th>worldwide_gross</th>\n",
       "      <th>title_year</th>\n",
       "      <th>aspect_ratio</th>\n",
       "      <th>duration</th>\n",
       "      <th>cast_total_facebook_likes</th>\n",
       "      <th>budget</th>\n",
       "      <th>imdb_score</th>\n",
       "    </tr>\n",
       "  </thead>\n",
       "  <tbody>\n",
       "    <tr>\n",
       "      <th>0</th>\n",
       "      <td>425000000.0</td>\n",
       "      <td>2.783919e+09</td>\n",
       "      <td>2009.000000</td>\n",
       "      <td>1.780000</td>\n",
       "      <td>178.000000</td>\n",
       "      <td>4834.0</td>\n",
       "      <td>2.370000e+08</td>\n",
       "      <td>7.9</td>\n",
       "    </tr>\n",
       "    <tr>\n",
       "      <th>1</th>\n",
       "      <td>306000000.0</td>\n",
       "      <td>2.058662e+09</td>\n",
       "      <td>2002.130733</td>\n",
       "      <td>2.126976</td>\n",
       "      <td>108.577186</td>\n",
       "      <td>143.0</td>\n",
       "      <td>4.045539e+07</td>\n",
       "      <td>7.1</td>\n",
       "    </tr>\n",
       "    <tr>\n",
       "      <th>2</th>\n",
       "      <td>300000000.0</td>\n",
       "      <td>9.634204e+08</td>\n",
       "      <td>2007.000000</td>\n",
       "      <td>2.350000</td>\n",
       "      <td>169.000000</td>\n",
       "      <td>48350.0</td>\n",
       "      <td>3.000000e+08</td>\n",
       "      <td>7.1</td>\n",
       "    </tr>\n",
       "    <tr>\n",
       "      <th>3</th>\n",
       "      <td>300000000.0</td>\n",
       "      <td>8.796209e+08</td>\n",
       "      <td>2015.000000</td>\n",
       "      <td>2.350000</td>\n",
       "      <td>148.000000</td>\n",
       "      <td>11700.0</td>\n",
       "      <td>2.450000e+08</td>\n",
       "      <td>6.8</td>\n",
       "    </tr>\n",
       "    <tr>\n",
       "      <th>4</th>\n",
       "      <td>275000000.0</td>\n",
       "      <td>1.084439e+09</td>\n",
       "      <td>2012.000000</td>\n",
       "      <td>2.350000</td>\n",
       "      <td>164.000000</td>\n",
       "      <td>106759.0</td>\n",
       "      <td>2.500000e+08</td>\n",
       "      <td>8.5</td>\n",
       "    </tr>\n",
       "  </tbody>\n",
       "</table>\n",
       "</div>"
      ],
      "text/plain": [
       "   production_budget  worldwide_gross   title_year  aspect_ratio    duration  \\\n",
       "0        425000000.0     2.783919e+09  2009.000000      1.780000  178.000000   \n",
       "1        306000000.0     2.058662e+09  2002.130733      2.126976  108.577186   \n",
       "2        300000000.0     9.634204e+08  2007.000000      2.350000  169.000000   \n",
       "3        300000000.0     8.796209e+08  2015.000000      2.350000  148.000000   \n",
       "4        275000000.0     1.084439e+09  2012.000000      2.350000  164.000000   \n",
       "\n",
       "   cast_total_facebook_likes        budget  imdb_score  \n",
       "0                     4834.0  2.370000e+08         7.9  \n",
       "1                      143.0  4.045539e+07         7.1  \n",
       "2                    48350.0  3.000000e+08         7.1  \n",
       "3                    11700.0  2.450000e+08         6.8  \n",
       "4                   106759.0  2.500000e+08         8.5  "
      ]
     },
     "execution_count": 63,
     "metadata": {},
     "output_type": "execute_result"
    }
   ],
   "source": [
    "values = imputer.fit_transform(movies_v2)\n",
    "X = pd.DataFrame(values)\n",
    "X.columns = movies_v2.columns\n",
    "X.index = movies_v2.index\n",
    "X.head()"
   ]
  },
  {
   "cell_type": "code",
   "execution_count": 64,
   "metadata": {
    "collapsed": false
   },
   "outputs": [
    {
     "data": {
      "text/plain": [
       "4104"
      ]
     },
     "execution_count": 64,
     "metadata": {},
     "output_type": "execute_result"
    }
   ],
   "source": [
    "len(X)"
   ]
  },
  {
   "cell_type": "code",
   "execution_count": 65,
   "metadata": {
    "collapsed": false
   },
   "outputs": [
    {
     "data": {
      "text/plain": [
       "array([[  4.25000000e+08,   2.78391898e+09,   2.00900000e+03, ...,\n",
       "          4.83400000e+03,   2.37000000e+08,   7.90000000e+00],\n",
       "       [  3.06000000e+08,   2.05866222e+09,              nan, ...,\n",
       "          1.43000000e+02,              nan,   7.10000000e+00],\n",
       "       [  3.00000000e+08,   9.63420425e+08,   2.00700000e+03, ...,\n",
       "          4.83500000e+04,   3.00000000e+08,   7.10000000e+00],\n",
       "       ..., \n",
       "       [  7.00000000e+03,   9.00000000e+02,   2.00500000e+03, ...,\n",
       "          9.30000000e+01,   3.25000000e+03,   7.80000000e+00],\n",
       "       [  3.96700000e+03,   1.04430000e+04,   2.01200000e+03, ...,\n",
       "          2.38600000e+03,              nan,   6.30000000e+00],\n",
       "       [  1.10000000e+03,   1.81041000e+05,   2.00400000e+03, ...,\n",
       "          1.63000000e+02,   1.10000000e+03,   6.60000000e+00]])"
      ]
     },
     "execution_count": 65,
     "metadata": {},
     "output_type": "execute_result"
    }
   ],
   "source": [
    "movies_v2.values"
   ]
  },
  {
   "cell_type": "code",
   "execution_count": 66,
   "metadata": {
    "collapsed": false
   },
   "outputs": [
    {
     "data": {
      "text/plain": [
       "array([[  4.25000000e+08,   2.78391898e+09,   2.00900000e+03, ...,\n",
       "          4.83400000e+03,   2.37000000e+08,   7.90000000e+00],\n",
       "       [  3.06000000e+08,   2.05866222e+09,   2.00213073e+03, ...,\n",
       "          1.43000000e+02,   4.04553863e+07,   7.10000000e+00],\n",
       "       [  3.00000000e+08,   9.63420425e+08,   2.00700000e+03, ...,\n",
       "          4.83500000e+04,   3.00000000e+08,   7.10000000e+00],\n",
       "       ..., \n",
       "       [  7.00000000e+03,   9.00000000e+02,   2.00500000e+03, ...,\n",
       "          9.30000000e+01,   3.25000000e+03,   7.80000000e+00],\n",
       "       [  3.96700000e+03,   1.04430000e+04,   2.01200000e+03, ...,\n",
       "          2.38600000e+03,   4.04553863e+07,   6.30000000e+00],\n",
       "       [  1.10000000e+03,   1.81041000e+05,   2.00400000e+03, ...,\n",
       "          1.63000000e+02,   1.10000000e+03,   6.60000000e+00]])"
      ]
     },
     "execution_count": 66,
     "metadata": {},
     "output_type": "execute_result"
    }
   ],
   "source": [
    "values"
   ]
  },
  {
   "cell_type": "code",
   "execution_count": 68,
   "metadata": {
    "collapsed": false
   },
   "outputs": [],
   "source": [
    "X.to_csv('datasets/X.csv',index=False)"
   ]
  }
 ],
 "metadata": {
  "kernelspec": {
   "display_name": "Python 3",
   "language": "python",
   "name": "python3"
  },
  "language_info": {
   "codemirror_mode": {
    "name": "ipython",
    "version": 3
   },
   "file_extension": ".py",
   "mimetype": "text/x-python",
   "name": "python",
   "nbconvert_exporter": "python",
   "pygments_lexer": "ipython3",
   "version": "3.6.0"
  }
 },
 "nbformat": 4,
 "nbformat_minor": 2
}
